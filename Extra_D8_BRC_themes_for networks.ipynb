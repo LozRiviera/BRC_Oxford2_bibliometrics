{
 "cells": [
  {
   "cell_type": "markdown",
   "metadata": {},
   "source": [
    "# Extra analysis:  not needed for the current paper\n",
    "\n",
    "### D8 - diving up the list of Digital Object Identifiers (DOIs) into groups for use as a starting point for the GUI program VOSViewer.  This is another method for producing author-association networks.\n",
    "\n"
   ]
  },
  {
   "cell_type": "markdown",
   "metadata": {},
   "source": [
    "Networks were also explored in the program VOSviewer (version 1.6.11, https://www.vosviewer.com/) for comparison. For VOSviewer, each list of DOIs was imported via the Crossref DOI resource. Then networks were created with fractional counting of co-authorship, with no exclusion of papers with large numbers of authors. Additionally, a thesaurus file was constructed to aid with aggregation of records where authors have multiple names or initials that are recorded inconsistently. No restriction was made on the minimum number of publications for inclusion. \n"
   ]
  },
  {
   "cell_type": "markdown",
   "metadata": {},
   "source": [
    "## dividing DOIs for each publication by:\n",
    "\n",
    "    # research group \n",
    "    # type of group (established Themes and new working groups)\n",
    "    # stage of the OxBRC2 project"
   ]
  },
  {
   "cell_type": "code",
   "execution_count": 3,
   "metadata": {},
   "outputs": [],
   "source": [
    "# Python library for data handling and import/export\n",
    "import pandas as pd\n"
   ]
  },
  {
   "cell_type": "code",
   "execution_count": 4,
   "metadata": {
    "scrolled": false
   },
   "outputs": [
    {
     "data": {
      "text/html": [
       "<div>\n",
       "<style scoped>\n",
       "    .dataframe tbody tr th:only-of-type {\n",
       "        vertical-align: middle;\n",
       "    }\n",
       "\n",
       "    .dataframe tbody tr th {\n",
       "        vertical-align: top;\n",
       "    }\n",
       "\n",
       "    .dataframe thead th {\n",
       "        text-align: right;\n",
       "    }\n",
       "</style>\n",
       "<table border=\"1\" class=\"dataframe\">\n",
       "  <thead>\n",
       "    <tr style=\"text-align: right;\">\n",
       "      <th></th>\n",
       "      <th>Unnamed: 0</th>\n",
       "      <th>ID</th>\n",
       "      <th>DOI</th>\n",
       "      <th>times_cited_CrossRef</th>\n",
       "      <th>times_cited_Dimensions</th>\n",
       "      <th>relative_citation_ratio</th>\n",
       "      <th>field_citation_ratio</th>\n",
       "      <th>number_of_authors</th>\n",
       "      <th>research_group</th>\n",
       "      <th>group_type</th>\n",
       "    </tr>\n",
       "    <tr>\n",
       "      <th>publication_date</th>\n",
       "      <th></th>\n",
       "      <th></th>\n",
       "      <th></th>\n",
       "      <th></th>\n",
       "      <th></th>\n",
       "      <th></th>\n",
       "      <th></th>\n",
       "      <th></th>\n",
       "      <th></th>\n",
       "      <th></th>\n",
       "    </tr>\n",
       "  </thead>\n",
       "  <tbody>\n",
       "    <tr>\n",
       "      <th>2011-04-12 10:57:25+00:00</th>\n",
       "      <td>862</td>\n",
       "      <td>741</td>\n",
       "      <td>10.1111/j.1460-9592.2011.03591.x</td>\n",
       "      <td>14.0</td>\n",
       "      <td>15.0</td>\n",
       "      <td>0.83</td>\n",
       "      <td>3.47</td>\n",
       "      <td>1.0</td>\n",
       "      <td>cardiovascular</td>\n",
       "      <td>Theme</td>\n",
       "    </tr>\n",
       "    <tr>\n",
       "      <th>2011-07-25 13:24:12+00:00</th>\n",
       "      <td>446</td>\n",
       "      <td>31</td>\n",
       "      <td>10.1016/j.neurobiolaging.2011.05.018</td>\n",
       "      <td>105.0</td>\n",
       "      <td>144.0</td>\n",
       "      <td>5.34</td>\n",
       "      <td>28.61</td>\n",
       "      <td>6.0</td>\n",
       "      <td>dementia and cerebrovascular disease</td>\n",
       "      <td>Theme</td>\n",
       "    </tr>\n",
       "    <tr>\n",
       "      <th>2011-08-22 17:08:59+00:00</th>\n",
       "      <td>1300</td>\n",
       "      <td>101</td>\n",
       "      <td>10.1037/a0024992</td>\n",
       "      <td>49.0</td>\n",
       "      <td>64.0</td>\n",
       "      <td>2.09</td>\n",
       "      <td>11.40</td>\n",
       "      <td>5.0</td>\n",
       "      <td>cognitive health</td>\n",
       "      <td>Working Group</td>\n",
       "    </tr>\n",
       "    <tr>\n",
       "      <th>2011-09-17 03:56:19+00:00</th>\n",
       "      <td>719</td>\n",
       "      <td>184</td>\n",
       "      <td>10.1016/j.neuroimage.2011.09.010</td>\n",
       "      <td>48.0</td>\n",
       "      <td>49.0</td>\n",
       "      <td>1.97</td>\n",
       "      <td>NaN</td>\n",
       "      <td>1.0</td>\n",
       "      <td>cardiovascular</td>\n",
       "      <td>Theme</td>\n",
       "    </tr>\n",
       "    <tr>\n",
       "      <th>2011-10-05 06:03:22+00:00</th>\n",
       "      <td>1449</td>\n",
       "      <td>238</td>\n",
       "      <td>10.1002/hbm.21402</td>\n",
       "      <td>86.0</td>\n",
       "      <td>90.0</td>\n",
       "      <td>3.65</td>\n",
       "      <td>21.32</td>\n",
       "      <td>6.0</td>\n",
       "      <td>functional neurosciences and imaging</td>\n",
       "      <td>Theme</td>\n",
       "    </tr>\n",
       "  </tbody>\n",
       "</table>\n",
       "</div>"
      ],
      "text/plain": [
       "                           Unnamed: 0   ID  \\\n",
       "publication_date                             \n",
       "2011-04-12 10:57:25+00:00         862  741   \n",
       "2011-07-25 13:24:12+00:00         446   31   \n",
       "2011-08-22 17:08:59+00:00        1300  101   \n",
       "2011-09-17 03:56:19+00:00         719  184   \n",
       "2011-10-05 06:03:22+00:00        1449  238   \n",
       "\n",
       "                                                            DOI  \\\n",
       "publication_date                                                  \n",
       "2011-04-12 10:57:25+00:00      10.1111/j.1460-9592.2011.03591.x   \n",
       "2011-07-25 13:24:12+00:00  10.1016/j.neurobiolaging.2011.05.018   \n",
       "2011-08-22 17:08:59+00:00                      10.1037/a0024992   \n",
       "2011-09-17 03:56:19+00:00      10.1016/j.neuroimage.2011.09.010   \n",
       "2011-10-05 06:03:22+00:00                     10.1002/hbm.21402   \n",
       "\n",
       "                           times_cited_CrossRef  times_cited_Dimensions  \\\n",
       "publication_date                                                          \n",
       "2011-04-12 10:57:25+00:00                  14.0                    15.0   \n",
       "2011-07-25 13:24:12+00:00                 105.0                   144.0   \n",
       "2011-08-22 17:08:59+00:00                  49.0                    64.0   \n",
       "2011-09-17 03:56:19+00:00                  48.0                    49.0   \n",
       "2011-10-05 06:03:22+00:00                  86.0                    90.0   \n",
       "\n",
       "                           relative_citation_ratio  field_citation_ratio  \\\n",
       "publication_date                                                           \n",
       "2011-04-12 10:57:25+00:00                     0.83                  3.47   \n",
       "2011-07-25 13:24:12+00:00                     5.34                 28.61   \n",
       "2011-08-22 17:08:59+00:00                     2.09                 11.40   \n",
       "2011-09-17 03:56:19+00:00                     1.97                   NaN   \n",
       "2011-10-05 06:03:22+00:00                     3.65                 21.32   \n",
       "\n",
       "                           number_of_authors  \\\n",
       "publication_date                               \n",
       "2011-04-12 10:57:25+00:00                1.0   \n",
       "2011-07-25 13:24:12+00:00                6.0   \n",
       "2011-08-22 17:08:59+00:00                5.0   \n",
       "2011-09-17 03:56:19+00:00                1.0   \n",
       "2011-10-05 06:03:22+00:00                6.0   \n",
       "\n",
       "                                                 research_group     group_type  \n",
       "publication_date                                                                \n",
       "2011-04-12 10:57:25+00:00                        cardiovascular          Theme  \n",
       "2011-07-25 13:24:12+00:00  dementia and cerebrovascular disease          Theme  \n",
       "2011-08-22 17:08:59+00:00                      cognitive health  Working Group  \n",
       "2011-09-17 03:56:19+00:00                        cardiovascular          Theme  \n",
       "2011-10-05 06:03:22+00:00  functional neurosciences and imaging          Theme  "
      ]
     },
     "execution_count": 4,
     "metadata": {},
     "output_type": "execute_result"
    }
   ],
   "source": [
    "df_in = pd.read_csv('./C2out_for_app.csv', index_col=['publication_date'], parse_dates=True)\n",
    "df_in.sort_index(inplace=True)\n",
    "df_in.head()"
   ]
  },
  {
   "cell_type": "code",
   "execution_count": 5,
   "metadata": {},
   "outputs": [
    {
     "data": {
      "text/plain": [
       "10.1038/leu.2015.129                    3\n",
       "10.1016/j.neurobiolaging.2012.07.011    3\n",
       "10.1016/j.cortex.2012.04.011            3\n",
       "10.1523/jneurosci.4437-12.2013          3\n",
       "10.1038/ng.3304                         3\n",
       "                                       ..\n",
       "10.3233/jpd-140523                      1\n",
       "10.1016/j.ijcard.2014.09.025            1\n",
       "10.2196/mhealth.3568                    1\n",
       "10.1167/iovs.12-10037                   1\n",
       "10.2217/fon.14.222                      1\n",
       "Name: DOI, Length: 2364, dtype: int64"
      ]
     },
     "execution_count": 5,
     "metadata": {},
     "output_type": "execute_result"
    }
   ],
   "source": [
    "df_in.DOI.value_counts()"
   ]
  },
  {
   "cell_type": "code",
   "execution_count": 6,
   "metadata": {},
   "outputs": [
    {
     "data": {
      "text/plain": [
       "array(['cardiovascular', 'dementia and cerebrovascular disease',\n",
       "       'cognitive health', 'functional neurosciences and imaging',\n",
       "       'infection', 'genomic medicine', 'cancer',\n",
       "       'translational physiology', 'immunity and inflammation',\n",
       "       'diabetes', 'vaccines', 'blood',\n",
       "       'biomedical informatics and technology',\n",
       "       'pathology and bioresources', 'surgical innovation and evaluation',\n",
       "       'other brc funded work', 'ethics',\n",
       "       'patient and public involvement', 'molecular diagnostics',\n",
       "       'prevention and population care',\n",
       "       'research education and training', 'transplantation',\n",
       "       'health economics'], dtype=object)"
      ]
     },
     "execution_count": 6,
     "metadata": {},
     "output_type": "execute_result"
    }
   ],
   "source": [
    "group_outlist =pd.Series(df_in.research_group.values.tolist())\n",
    "group_outlist.unique()"
   ]
  },
  {
   "cell_type": "code",
   "execution_count": 7,
   "metadata": {},
   "outputs": [
    {
     "data": {
      "text/plain": [
       "array(['Theme', 'Working Group', 'Other'], dtype=object)"
      ]
     },
     "execution_count": 7,
     "metadata": {},
     "output_type": "execute_result"
    }
   ],
   "source": [
    "group_type_list =pd.Series(df_in.group_type.values.tolist())\n",
    "group_type_list.unique()"
   ]
  },
  {
   "cell_type": "code",
   "execution_count": 8,
   "metadata": {},
   "outputs": [],
   "source": [
    "for item in group_outlist.unique():\n",
    "    selected = df_in[df_in.research_group==item]['DOI']\n",
    "    selected.to_csv('./author_networks/'+str(item)+'_all_DOIs.csv', index=False, header=False)"
   ]
  },
  {
   "cell_type": "code",
   "execution_count": 9,
   "metadata": {},
   "outputs": [],
   "source": [
    "for item in group_type_list.unique():\n",
    "    df_timed = df_in.dropna()\n",
    "    selected = df_timed[df_timed.group_type==item]['DOI']\n",
    "    selected.to_csv('./author_networks/'+str(item)+'_all_DOIs.csv', index=False, header=False)"
   ]
  },
  {
   "cell_type": "markdown",
   "metadata": {},
   "source": [
    "##  We are first going to divide our lists into each third of the OxBRC2 funding period.\n",
    "\n",
    "This sorting and division is never going to be completely accurate, due to variations in data for publishing dates vs DOI creation dates (and some omissions and variation between publishers for this data).\n",
    "\n",
    "Occasionally we identifiy gaps in author data for certain DOIs, and we have clearly identified uncertainty in group memberships"
   ]
  },
  {
   "cell_type": "code",
   "execution_count": 10,
   "metadata": {},
   "outputs": [],
   "source": [
    "df_start = df_in[df_in.index.notna()].sort_index().truncate(after='2013-11-22 23:59:59+00:00')\n",
    "df_mid =  df_in[df_in.index.notna()].sort_index().truncate(before='2013-11-22 23:59:59+00:00', after='2015-07-09 23:59:59+00:00')\n",
    "df_end = df_in[df_in.index.notna()].sort_index().truncate(before='2015-07-15 23:59:59+00:00')"
   ]
  },
  {
   "cell_type": "code",
   "execution_count": 11,
   "metadata": {},
   "outputs": [
    {
     "data": {
      "text/plain": [
       "Unnamed: 0                 832\n",
       "ID                         832\n",
       "DOI                        832\n",
       "times_cited_CrossRef       832\n",
       "times_cited_Dimensions     832\n",
       "relative_citation_ratio    811\n",
       "field_citation_ratio       794\n",
       "number_of_authors          830\n",
       "research_group             832\n",
       "group_type                 832\n",
       "dtype: int64"
      ]
     },
     "execution_count": 11,
     "metadata": {},
     "output_type": "execute_result"
    }
   ],
   "source": [
    "df_start.count()"
   ]
  },
  {
   "cell_type": "code",
   "execution_count": 12,
   "metadata": {},
   "outputs": [
    {
     "data": {
      "text/plain": [
       "Unnamed: 0                 829\n",
       "ID                         829\n",
       "DOI                        829\n",
       "times_cited_CrossRef       829\n",
       "times_cited_Dimensions     829\n",
       "relative_citation_ratio    809\n",
       "field_citation_ratio       797\n",
       "number_of_authors          829\n",
       "research_group             829\n",
       "group_type                 829\n",
       "dtype: int64"
      ]
     },
     "execution_count": 12,
     "metadata": {},
     "output_type": "execute_result"
    }
   ],
   "source": [
    "df_mid.count()"
   ]
  },
  {
   "cell_type": "code",
   "execution_count": 13,
   "metadata": {},
   "outputs": [
    {
     "data": {
      "text/plain": [
       "Unnamed: 0                 829\n",
       "ID                         829\n",
       "DOI                        829\n",
       "times_cited_CrossRef       829\n",
       "times_cited_Dimensions     829\n",
       "relative_citation_ratio    808\n",
       "field_citation_ratio       791\n",
       "number_of_authors          829\n",
       "research_group             829\n",
       "group_type                 829\n",
       "dtype: int64"
      ]
     },
     "execution_count": 13,
     "metadata": {},
     "output_type": "execute_result"
    }
   ],
   "source": [
    "df_end.count()"
   ]
  },
  {
   "cell_type": "code",
   "execution_count": 14,
   "metadata": {},
   "outputs": [
    {
     "data": {
      "text/html": [
       "<div>\n",
       "<style scoped>\n",
       "    .dataframe tbody tr th:only-of-type {\n",
       "        vertical-align: middle;\n",
       "    }\n",
       "\n",
       "    .dataframe tbody tr th {\n",
       "        vertical-align: top;\n",
       "    }\n",
       "\n",
       "    .dataframe thead th {\n",
       "        text-align: right;\n",
       "    }\n",
       "</style>\n",
       "<table border=\"1\" class=\"dataframe\">\n",
       "  <thead>\n",
       "    <tr style=\"text-align: right;\">\n",
       "      <th></th>\n",
       "      <th>count</th>\n",
       "      <th>mean</th>\n",
       "      <th>std</th>\n",
       "      <th>min</th>\n",
       "      <th>10%</th>\n",
       "      <th>50%</th>\n",
       "      <th>90%</th>\n",
       "      <th>max</th>\n",
       "    </tr>\n",
       "    <tr>\n",
       "      <th>research_group</th>\n",
       "      <th></th>\n",
       "      <th></th>\n",
       "      <th></th>\n",
       "      <th></th>\n",
       "      <th></th>\n",
       "      <th></th>\n",
       "      <th></th>\n",
       "      <th></th>\n",
       "    </tr>\n",
       "  </thead>\n",
       "  <tbody>\n",
       "    <tr>\n",
       "      <th>biomedical informatics and technology</th>\n",
       "      <td>62.0</td>\n",
       "      <td>18.0</td>\n",
       "      <td>90.8</td>\n",
       "      <td>2.0</td>\n",
       "      <td>4.0</td>\n",
       "      <td>6.0</td>\n",
       "      <td>10.0</td>\n",
       "      <td>721.0</td>\n",
       "    </tr>\n",
       "    <tr>\n",
       "      <th>blood</th>\n",
       "      <td>181.0</td>\n",
       "      <td>13.8</td>\n",
       "      <td>11.4</td>\n",
       "      <td>1.0</td>\n",
       "      <td>3.0</td>\n",
       "      <td>10.0</td>\n",
       "      <td>25.0</td>\n",
       "      <td>74.0</td>\n",
       "    </tr>\n",
       "    <tr>\n",
       "      <th>cancer</th>\n",
       "      <td>136.0</td>\n",
       "      <td>11.9</td>\n",
       "      <td>11.6</td>\n",
       "      <td>1.0</td>\n",
       "      <td>3.0</td>\n",
       "      <td>10.0</td>\n",
       "      <td>20.5</td>\n",
       "      <td>110.0</td>\n",
       "    </tr>\n",
       "    <tr>\n",
       "      <th>cardiovascular</th>\n",
       "      <td>270.0</td>\n",
       "      <td>17.1</td>\n",
       "      <td>40.8</td>\n",
       "      <td>1.0</td>\n",
       "      <td>3.0</td>\n",
       "      <td>8.0</td>\n",
       "      <td>19.1</td>\n",
       "      <td>445.0</td>\n",
       "    </tr>\n",
       "    <tr>\n",
       "      <th>cognitive health</th>\n",
       "      <td>132.0</td>\n",
       "      <td>6.2</td>\n",
       "      <td>3.7</td>\n",
       "      <td>2.0</td>\n",
       "      <td>3.0</td>\n",
       "      <td>5.0</td>\n",
       "      <td>10.9</td>\n",
       "      <td>31.0</td>\n",
       "    </tr>\n",
       "    <tr>\n",
       "      <th>dementia and cerebrovascular disease</th>\n",
       "      <td>150.0</td>\n",
       "      <td>16.0</td>\n",
       "      <td>19.9</td>\n",
       "      <td>1.0</td>\n",
       "      <td>4.0</td>\n",
       "      <td>8.5</td>\n",
       "      <td>47.0</td>\n",
       "      <td>127.0</td>\n",
       "    </tr>\n",
       "    <tr>\n",
       "      <th>diabetes</th>\n",
       "      <td>131.0</td>\n",
       "      <td>42.0</td>\n",
       "      <td>80.8</td>\n",
       "      <td>1.0</td>\n",
       "      <td>3.0</td>\n",
       "      <td>12.0</td>\n",
       "      <td>89.0</td>\n",
       "      <td>485.0</td>\n",
       "    </tr>\n",
       "    <tr>\n",
       "      <th>ethics</th>\n",
       "      <td>10.0</td>\n",
       "      <td>7.7</td>\n",
       "      <td>10.0</td>\n",
       "      <td>1.0</td>\n",
       "      <td>1.0</td>\n",
       "      <td>2.0</td>\n",
       "      <td>22.6</td>\n",
       "      <td>28.0</td>\n",
       "    </tr>\n",
       "    <tr>\n",
       "      <th>functional neurosciences and imaging</th>\n",
       "      <td>180.0</td>\n",
       "      <td>7.4</td>\n",
       "      <td>4.0</td>\n",
       "      <td>1.0</td>\n",
       "      <td>3.0</td>\n",
       "      <td>7.0</td>\n",
       "      <td>13.0</td>\n",
       "      <td>29.0</td>\n",
       "    </tr>\n",
       "    <tr>\n",
       "      <th>genomic medicine</th>\n",
       "      <td>241.0</td>\n",
       "      <td>41.9</td>\n",
       "      <td>74.7</td>\n",
       "      <td>1.0</td>\n",
       "      <td>5.0</td>\n",
       "      <td>16.0</td>\n",
       "      <td>108.0</td>\n",
       "      <td>496.0</td>\n",
       "    </tr>\n",
       "    <tr>\n",
       "      <th>health economics</th>\n",
       "      <td>6.0</td>\n",
       "      <td>12.8</td>\n",
       "      <td>2.7</td>\n",
       "      <td>8.0</td>\n",
       "      <td>10.0</td>\n",
       "      <td>13.5</td>\n",
       "      <td>15.0</td>\n",
       "      <td>16.0</td>\n",
       "    </tr>\n",
       "    <tr>\n",
       "      <th>immunity and inflammation</th>\n",
       "      <td>292.0</td>\n",
       "      <td>21.9</td>\n",
       "      <td>144.8</td>\n",
       "      <td>1.0</td>\n",
       "      <td>3.0</td>\n",
       "      <td>10.0</td>\n",
       "      <td>25.0</td>\n",
       "      <td>2467.0</td>\n",
       "    </tr>\n",
       "    <tr>\n",
       "      <th>infection</th>\n",
       "      <td>81.0</td>\n",
       "      <td>12.9</td>\n",
       "      <td>8.5</td>\n",
       "      <td>1.0</td>\n",
       "      <td>3.0</td>\n",
       "      <td>11.0</td>\n",
       "      <td>24.0</td>\n",
       "      <td>41.0</td>\n",
       "    </tr>\n",
       "    <tr>\n",
       "      <th>molecular diagnostics</th>\n",
       "      <td>32.0</td>\n",
       "      <td>17.8</td>\n",
       "      <td>20.9</td>\n",
       "      <td>1.0</td>\n",
       "      <td>3.0</td>\n",
       "      <td>11.5</td>\n",
       "      <td>34.9</td>\n",
       "      <td>110.0</td>\n",
       "    </tr>\n",
       "    <tr>\n",
       "      <th>other brc funded work</th>\n",
       "      <td>17.0</td>\n",
       "      <td>7.2</td>\n",
       "      <td>3.8</td>\n",
       "      <td>2.0</td>\n",
       "      <td>4.0</td>\n",
       "      <td>6.0</td>\n",
       "      <td>13.0</td>\n",
       "      <td>13.0</td>\n",
       "    </tr>\n",
       "    <tr>\n",
       "      <th>pathology and bioresources</th>\n",
       "      <td>32.0</td>\n",
       "      <td>25.9</td>\n",
       "      <td>70.9</td>\n",
       "      <td>1.0</td>\n",
       "      <td>3.0</td>\n",
       "      <td>6.0</td>\n",
       "      <td>19.9</td>\n",
       "      <td>322.0</td>\n",
       "    </tr>\n",
       "    <tr>\n",
       "      <th>patient and public involvement</th>\n",
       "      <td>30.0</td>\n",
       "      <td>5.1</td>\n",
       "      <td>3.1</td>\n",
       "      <td>1.0</td>\n",
       "      <td>1.9</td>\n",
       "      <td>4.0</td>\n",
       "      <td>9.1</td>\n",
       "      <td>12.0</td>\n",
       "    </tr>\n",
       "    <tr>\n",
       "      <th>prevention and population care</th>\n",
       "      <td>119.0</td>\n",
       "      <td>26.7</td>\n",
       "      <td>99.9</td>\n",
       "      <td>1.0</td>\n",
       "      <td>3.0</td>\n",
       "      <td>7.0</td>\n",
       "      <td>17.0</td>\n",
       "      <td>721.0</td>\n",
       "    </tr>\n",
       "    <tr>\n",
       "      <th>research education and training</th>\n",
       "      <td>3.0</td>\n",
       "      <td>7.0</td>\n",
       "      <td>7.8</td>\n",
       "      <td>2.0</td>\n",
       "      <td>2.2</td>\n",
       "      <td>3.0</td>\n",
       "      <td>13.4</td>\n",
       "      <td>16.0</td>\n",
       "    </tr>\n",
       "    <tr>\n",
       "      <th>surgical innovation and evaluation</th>\n",
       "      <td>81.0</td>\n",
       "      <td>12.0</td>\n",
       "      <td>14.3</td>\n",
       "      <td>1.0</td>\n",
       "      <td>3.0</td>\n",
       "      <td>9.0</td>\n",
       "      <td>18.0</td>\n",
       "      <td>115.0</td>\n",
       "    </tr>\n",
       "    <tr>\n",
       "      <th>translational physiology</th>\n",
       "      <td>83.0</td>\n",
       "      <td>6.6</td>\n",
       "      <td>4.1</td>\n",
       "      <td>1.0</td>\n",
       "      <td>2.0</td>\n",
       "      <td>5.0</td>\n",
       "      <td>12.0</td>\n",
       "      <td>18.0</td>\n",
       "    </tr>\n",
       "    <tr>\n",
       "      <th>transplantation</th>\n",
       "      <td>5.0</td>\n",
       "      <td>5.6</td>\n",
       "      <td>3.0</td>\n",
       "      <td>2.0</td>\n",
       "      <td>2.8</td>\n",
       "      <td>5.0</td>\n",
       "      <td>8.8</td>\n",
       "      <td>10.0</td>\n",
       "    </tr>\n",
       "    <tr>\n",
       "      <th>vaccines</th>\n",
       "      <td>223.0</td>\n",
       "      <td>11.4</td>\n",
       "      <td>10.3</td>\n",
       "      <td>1.0</td>\n",
       "      <td>3.0</td>\n",
       "      <td>9.0</td>\n",
       "      <td>21.8</td>\n",
       "      <td>95.0</td>\n",
       "    </tr>\n",
       "  </tbody>\n",
       "</table>\n",
       "</div>"
      ],
      "text/plain": [
       "                                       count  mean    std  min   10%   50%  \\\n",
       "research_group                                                               \n",
       "biomedical informatics and technology   62.0  18.0   90.8  2.0   4.0   6.0   \n",
       "blood                                  181.0  13.8   11.4  1.0   3.0  10.0   \n",
       "cancer                                 136.0  11.9   11.6  1.0   3.0  10.0   \n",
       "cardiovascular                         270.0  17.1   40.8  1.0   3.0   8.0   \n",
       "cognitive health                       132.0   6.2    3.7  2.0   3.0   5.0   \n",
       "dementia and cerebrovascular disease   150.0  16.0   19.9  1.0   4.0   8.5   \n",
       "diabetes                               131.0  42.0   80.8  1.0   3.0  12.0   \n",
       "ethics                                  10.0   7.7   10.0  1.0   1.0   2.0   \n",
       "functional neurosciences and imaging   180.0   7.4    4.0  1.0   3.0   7.0   \n",
       "genomic medicine                       241.0  41.9   74.7  1.0   5.0  16.0   \n",
       "health economics                         6.0  12.8    2.7  8.0  10.0  13.5   \n",
       "immunity and inflammation              292.0  21.9  144.8  1.0   3.0  10.0   \n",
       "infection                               81.0  12.9    8.5  1.0   3.0  11.0   \n",
       "molecular diagnostics                   32.0  17.8   20.9  1.0   3.0  11.5   \n",
       "other brc funded work                   17.0   7.2    3.8  2.0   4.0   6.0   \n",
       "pathology and bioresources              32.0  25.9   70.9  1.0   3.0   6.0   \n",
       "patient and public involvement          30.0   5.1    3.1  1.0   1.9   4.0   \n",
       "prevention and population care         119.0  26.7   99.9  1.0   3.0   7.0   \n",
       "research education and training          3.0   7.0    7.8  2.0   2.2   3.0   \n",
       "surgical innovation and evaluation      81.0  12.0   14.3  1.0   3.0   9.0   \n",
       "translational physiology                83.0   6.6    4.1  1.0   2.0   5.0   \n",
       "transplantation                          5.0   5.6    3.0  2.0   2.8   5.0   \n",
       "vaccines                               223.0  11.4   10.3  1.0   3.0   9.0   \n",
       "\n",
       "                                         90%     max  \n",
       "research_group                                        \n",
       "biomedical informatics and technology   10.0   721.0  \n",
       "blood                                   25.0    74.0  \n",
       "cancer                                  20.5   110.0  \n",
       "cardiovascular                          19.1   445.0  \n",
       "cognitive health                        10.9    31.0  \n",
       "dementia and cerebrovascular disease    47.0   127.0  \n",
       "diabetes                                89.0   485.0  \n",
       "ethics                                  22.6    28.0  \n",
       "functional neurosciences and imaging    13.0    29.0  \n",
       "genomic medicine                       108.0   496.0  \n",
       "health economics                        15.0    16.0  \n",
       "immunity and inflammation               25.0  2467.0  \n",
       "infection                               24.0    41.0  \n",
       "molecular diagnostics                   34.9   110.0  \n",
       "other brc funded work                   13.0    13.0  \n",
       "pathology and bioresources              19.9   322.0  \n",
       "patient and public involvement           9.1    12.0  \n",
       "prevention and population care          17.0   721.0  \n",
       "research education and training         13.4    16.0  \n",
       "surgical innovation and evaluation      18.0   115.0  \n",
       "translational physiology                12.0    18.0  \n",
       "transplantation                          8.8    10.0  \n",
       "vaccines                                21.8    95.0  "
      ]
     },
     "execution_count": 14,
     "metadata": {},
     "output_type": "execute_result"
    }
   ],
   "source": [
    "df_in.groupby('research_group')['number_of_authors'].describe(percentiles=[0.1,0.5,0.9]).round(1)"
   ]
  },
  {
   "cell_type": "code",
   "execution_count": 15,
   "metadata": {},
   "outputs": [],
   "source": [
    "Author_stats_table = pd.DataFrame([df_start.number_of_authors.describe(percentiles=[0.1,0.5,0.9]),\n",
    "                                   df_mid.number_of_authors.describe(percentiles=[0.1,0.5,0.9]),\n",
    "                                   df_end.number_of_authors.describe(percentiles=[0.1,0.5,0.9]),\n",
    "                                   df_in.number_of_authors.describe(percentiles=[0.1,0.5,0.9])],\n",
    "                                  index=['Start', 'Mid', 'End','All']).round(2)"
   ]
  },
  {
   "cell_type": "code",
   "execution_count": 16,
   "metadata": {},
   "outputs": [
    {
     "data": {
      "text/html": [
       "<div>\n",
       "<style scoped>\n",
       "    .dataframe tbody tr th:only-of-type {\n",
       "        vertical-align: middle;\n",
       "    }\n",
       "\n",
       "    .dataframe tbody tr th {\n",
       "        vertical-align: top;\n",
       "    }\n",
       "\n",
       "    .dataframe thead th {\n",
       "        text-align: right;\n",
       "    }\n",
       "</style>\n",
       "<table border=\"1\" class=\"dataframe\">\n",
       "  <thead>\n",
       "    <tr style=\"text-align: right;\">\n",
       "      <th></th>\n",
       "      <th>count</th>\n",
       "      <th>mean</th>\n",
       "      <th>std</th>\n",
       "      <th>min</th>\n",
       "      <th>10%</th>\n",
       "      <th>50%</th>\n",
       "      <th>90%</th>\n",
       "      <th>max</th>\n",
       "    </tr>\n",
       "  </thead>\n",
       "  <tbody>\n",
       "    <tr>\n",
       "      <th>Start</th>\n",
       "      <td>830.0</td>\n",
       "      <td>14.26</td>\n",
       "      <td>26.55</td>\n",
       "      <td>1.0</td>\n",
       "      <td>3.0</td>\n",
       "      <td>8.0</td>\n",
       "      <td>23.0</td>\n",
       "      <td>322.0</td>\n",
       "    </tr>\n",
       "    <tr>\n",
       "      <th>Mid</th>\n",
       "      <td>829.0</td>\n",
       "      <td>18.93</td>\n",
       "      <td>49.27</td>\n",
       "      <td>1.0</td>\n",
       "      <td>3.0</td>\n",
       "      <td>9.0</td>\n",
       "      <td>29.2</td>\n",
       "      <td>679.0</td>\n",
       "    </tr>\n",
       "    <tr>\n",
       "      <th>End</th>\n",
       "      <td>829.0</td>\n",
       "      <td>22.82</td>\n",
       "      <td>100.88</td>\n",
       "      <td>1.0</td>\n",
       "      <td>3.0</td>\n",
       "      <td>9.0</td>\n",
       "      <td>28.0</td>\n",
       "      <td>2467.0</td>\n",
       "    </tr>\n",
       "    <tr>\n",
       "      <th>All</th>\n",
       "      <td>2497.0</td>\n",
       "      <td>18.63</td>\n",
       "      <td>66.55</td>\n",
       "      <td>1.0</td>\n",
       "      <td>3.0</td>\n",
       "      <td>9.0</td>\n",
       "      <td>27.0</td>\n",
       "      <td>2467.0</td>\n",
       "    </tr>\n",
       "  </tbody>\n",
       "</table>\n",
       "</div>"
      ],
      "text/plain": [
       "        count   mean     std  min  10%  50%   90%     max\n",
       "Start   830.0  14.26   26.55  1.0  3.0  8.0  23.0   322.0\n",
       "Mid     829.0  18.93   49.27  1.0  3.0  9.0  29.2   679.0\n",
       "End     829.0  22.82  100.88  1.0  3.0  9.0  28.0  2467.0\n",
       "All    2497.0  18.63   66.55  1.0  3.0  9.0  27.0  2467.0"
      ]
     },
     "execution_count": 16,
     "metadata": {},
     "output_type": "execute_result"
    }
   ],
   "source": [
    "Author_stats_table"
   ]
  },
  {
   "cell_type": "code",
   "execution_count": null,
   "metadata": {},
   "outputs": [],
   "source": []
  },
  {
   "cell_type": "markdown",
   "metadata": {},
   "source": [
    "---\n",
    "## We can divided up the dataframes for the 'start' , 'mid' and 'end' of BRC2 to give each theme or research group type.\n",
    "\n",
    "--- "
   ]
  },
  {
   "cell_type": "code",
   "execution_count": 17,
   "metadata": {},
   "outputs": [
    {
     "data": {
      "text/plain": [
       "0                             cardiovascular\n",
       "1       dementia and cerebrovascular disease\n",
       "2                           cognitive health\n",
       "3                             cardiovascular\n",
       "4       functional neurosciences and imaging\n",
       "                        ...                 \n",
       "2498    functional neurosciences and imaging\n",
       "2499                          cardiovascular\n",
       "2500               immunity and inflammation\n",
       "2501               immunity and inflammation\n",
       "2502          prevention and population care\n",
       "Length: 2503, dtype: object"
      ]
     },
     "execution_count": 17,
     "metadata": {},
     "output_type": "execute_result"
    }
   ],
   "source": [
    "group_outlist"
   ]
  },
  {
   "cell_type": "code",
   "execution_count": 18,
   "metadata": {},
   "outputs": [],
   "source": [
    "#start of BRC2\n",
    "\n",
    "for item in group_outlist.unique():\n",
    "    selected = df_start[df_start.research_group==item]['DOI']\n",
    "    selected.to_csv('./author_networks/'+str(item)+'_start_DOIs.csv', index=False, header=False)"
   ]
  },
  {
   "cell_type": "code",
   "execution_count": 19,
   "metadata": {},
   "outputs": [],
   "source": [
    "# middle of BRC2\n",
    "\n",
    "for item in group_outlist.unique():\n",
    "    selected = df_mid[df_mid.research_group==item]['DOI']\n",
    "    selected.to_csv('./author_networks/'+str(item)+'_mid_DOIs.csv', index=False, header=False)"
   ]
  },
  {
   "cell_type": "code",
   "execution_count": 20,
   "metadata": {},
   "outputs": [],
   "source": [
    "# end of BRC2\n",
    "\n",
    "for item in group_outlist.unique():\n",
    "    selected = df_end[df_end.research_group==item]['DOI']\n",
    "    selected.to_csv('./author_networks/'+str(item)+'_end_DOIs.csv', index=False, header=False)"
   ]
  },
  {
   "cell_type": "code",
   "execution_count": null,
   "metadata": {},
   "outputs": [],
   "source": []
  },
  {
   "cell_type": "markdown",
   "metadata": {},
   "source": [
    "## and again we can divide the DOIs into those from Themes, Working Groups and Others, for the start, middle and end of the Grant"
   ]
  },
  {
   "cell_type": "code",
   "execution_count": 21,
   "metadata": {},
   "outputs": [
    {
     "data": {
      "text/plain": [
       "array(['Theme', 'Working Group', 'Other'], dtype=object)"
      ]
     },
     "execution_count": 21,
     "metadata": {},
     "output_type": "execute_result"
    }
   ],
   "source": [
    "group_type_list.unique()"
   ]
  },
  {
   "cell_type": "code",
   "execution_count": 22,
   "metadata": {},
   "outputs": [],
   "source": [
    "#start of BRC2\n",
    "\n",
    "for item in group_type_list.unique():\n",
    "    selected = df_start[df_start.group_type==item]['DOI']\n",
    "    selected.to_csv('./author_networks/'+str(item)+'_start_DOIs.csv', index=False, header=False)\n",
    "\n",
    "# middle of BRC2\n",
    "\n",
    "for item in group_type_list.unique():\n",
    "    selected = df_mid[df_mid.group_type==item]['DOI']\n",
    "    selected.to_csv('./author_networks/'+str(item)+'_mid_DOIs.csv', index=False, header=False)\n",
    "\n",
    "# end of BRC2\n",
    "\n",
    "for item in group_type_list.unique():\n",
    "    selected = df_end[df_end.group_type==item]['DOI']\n",
    "    selected.to_csv('./author_networks/'+str(item)+'_end_DOIs.csv', index=False, header=False)"
   ]
  },
  {
   "cell_type": "markdown",
   "metadata": {},
   "source": [
    "##  and finally, ensure we have a list of all of the DOIs for VOSviewer network of entire OxBRC2\n"
   ]
  },
  {
   "cell_type": "code",
   "execution_count": 23,
   "metadata": {},
   "outputs": [],
   "source": [
    "all_DOIs = df_in.drop_duplicates(subset=['DOI'],keep='first')['DOI']\n",
    "all_DOIs.to_csv('./author_networks/all_DOIs.csv', index=False, header=False)"
   ]
  },
  {
   "cell_type": "code",
   "execution_count": 24,
   "metadata": {},
   "outputs": [
    {
     "data": {
      "text/plain": [
       "2365"
      ]
     },
     "execution_count": 24,
     "metadata": {},
     "output_type": "execute_result"
    }
   ],
   "source": [
    "len(all_DOIs)"
   ]
  },
  {
   "cell_type": "code",
   "execution_count": null,
   "metadata": {},
   "outputs": [],
   "source": []
  },
  {
   "cell_type": "code",
   "execution_count": null,
   "metadata": {},
   "outputs": [],
   "source": []
  }
 ],
 "metadata": {
  "kernelspec": {
   "display_name": "Python 3",
   "language": "python",
   "name": "python3"
  },
  "language_info": {
   "codemirror_mode": {
    "name": "ipython",
    "version": 3
   },
   "file_extension": ".py",
   "mimetype": "text/x-python",
   "name": "python",
   "nbconvert_exporter": "python",
   "pygments_lexer": "ipython3",
   "version": "3.7.6"
  }
 },
 "nbformat": 4,
 "nbformat_minor": 2
}
