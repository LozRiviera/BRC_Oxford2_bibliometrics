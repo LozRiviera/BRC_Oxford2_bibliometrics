{
 "cells": [
  {
   "cell_type": "markdown",
   "metadata": {},
   "source": [
    "\n",
    "## This is the process for sorting references and finding Digital Object Identifiers (DOIs) for the publications reported as part of the second grant supporting the Oxford Biomedical Research Center (OxBRC2)"
   ]
  },
  {
   "cell_type": "markdown",
   "metadata": {},
   "source": [
    "###  The process makes use of resources kindly made available by:\n",
    "\n",
    " Crossref (https://www.crossref.org/),   \n",
    " and the python library 'habanero' (v0.6, https://habanero.readthedocs.io/en/latest/index.html)\n",
    "        \n",
    "<br>\n",
    "<p><font size=4 color=red>&#9888; Please do not run to notebook repeatedly unless needed, as it will put unneeded strain on API servers  &#9888;</font></p> \n",
    "<p> It will also take a long time to run </p>\n",
    "<p> You could run this with a subset of the data, as descriibed below.\n",
    "\n",
    "<br>\n"
   ]
  },
  {
   "cell_type": "markdown",
   "metadata": {},
   "source": [
    "\n"
   ]
  },
  {
   "cell_type": "markdown",
   "metadata": {},
   "source": [
    "### Set up your work-space with importing the packages you need\n",
    "\n"
   ]
  },
  {
   "cell_type": "code",
   "execution_count": 1,
   "metadata": {},
   "outputs": [],
   "source": [
    "# Handles our data \n",
    "import pandas as pd\n",
    "\n",
    "# Helpful for managing calls to the CrossRef API\n",
    "from habanero import Crossref, exceptions\n",
    "\n",
    "# We need to limit our usgae of the API to be polite\n",
    "import time\n",
    "\n",
    "#'xlrd'  is also likely a dependancy.  This can be installed using magic..'%conda install xlrd' in a new code cell if needed"
   ]
  },
  {
   "cell_type": "markdown",
   "metadata": {},
   "source": [
    "### First bring in the existing list of publictaions (using the columns needed)\n",
    "Import of an Excel file can be done with the Pandas python library, and we will select only the columns we need"
   ]
  },
  {
   "cell_type": "code",
   "execution_count": 2,
   "metadata": {},
   "outputs": [],
   "source": [
    "#%conda install xlrd"
   ]
  },
  {
   "cell_type": "code",
   "execution_count": 3,
   "metadata": {},
   "outputs": [
    {
     "data": {
      "text/plain": [
       "(2378, 4)"
      ]
     },
     "execution_count": 3,
     "metadata": {},
     "output_type": "execute_result"
    }
   ],
   "source": [
    "df1 = pd.read_excel('./Source_files/Source_OxBRC2_publications.xlsx',\n",
    "                    sheet_name='current_list', usecols=[0,1,2,3])\n",
    "df1.shape"
   ]
  },
  {
   "cell_type": "code",
   "execution_count": 4,
   "metadata": {},
   "outputs": [
    {
     "data": {
      "text/html": [
       "<div>\n",
       "<style scoped>\n",
       "    .dataframe tbody tr th:only-of-type {\n",
       "        vertical-align: middle;\n",
       "    }\n",
       "\n",
       "    .dataframe tbody tr th {\n",
       "        vertical-align: top;\n",
       "    }\n",
       "\n",
       "    .dataframe thead th {\n",
       "        text-align: right;\n",
       "    }\n",
       "</style>\n",
       "<table border=\"1\" class=\"dataframe\">\n",
       "  <thead>\n",
       "    <tr style=\"text-align: right;\">\n",
       "      <th></th>\n",
       "      <th>ID</th>\n",
       "      <th>DOI</th>\n",
       "      <th>complete</th>\n",
       "      <th>csv_post_title</th>\n",
       "    </tr>\n",
       "  </thead>\n",
       "  <tbody>\n",
       "    <tr>\n",
       "      <th>0</th>\n",
       "      <td>1125</td>\n",
       "      <td>10.1186/s12881-014-0095-4</td>\n",
       "      <td>&amp;amp; , Fenwick AL, Goos JAC, Rankin J, Lord ...</td>\n",
       "      <td>Apparently synonymous substitutions in FGFR2 a...</td>\n",
       "    </tr>\n",
       "    <tr>\n",
       "      <th>1</th>\n",
       "      <td>1996</td>\n",
       "      <td>10.1183/13993003.00321-2016</td>\n",
       "      <td>, Pattinson KT, Turner MR. A wider pathologic...</td>\n",
       "      <td>A wider pathological network underlying breath...</td>\n",
       "    </tr>\n",
       "  </tbody>\n",
       "</table>\n",
       "</div>"
      ],
      "text/plain": [
       "     ID                          DOI  \\\n",
       "0  1125    10.1186/s12881-014-0095-4   \n",
       "1  1996  10.1183/13993003.00321-2016   \n",
       "\n",
       "                                            complete  \\\n",
       "0   &amp; , Fenwick AL, Goos JAC, Rankin J, Lord ...   \n",
       "1   , Pattinson KT, Turner MR. A wider pathologic...   \n",
       "\n",
       "                                      csv_post_title  \n",
       "0  Apparently synonymous substitutions in FGFR2 a...  \n",
       "1  A wider pathological network underlying breath...  "
      ]
     },
     "execution_count": 4,
     "metadata": {},
     "output_type": "execute_result"
    }
   ],
   "source": [
    "#Now we can look at the top couple of lines of the file we have just imported\n",
    "df1.head(2)"
   ]
  },
  {
   "cell_type": "code",
   "execution_count": 5,
   "metadata": {},
   "outputs": [
    {
     "data": {
      "text/plain": [
       "(1442, 4)"
      ]
     },
     "execution_count": 5,
     "metadata": {},
     "output_type": "execute_result"
    }
   ],
   "source": [
    "#we could also make dataframe from only those missing DOIs\n",
    "\n",
    "df1.loc[df1.DOI.notna()].shape\n"
   ]
  },
  {
   "cell_type": "markdown",
   "metadata": {},
   "source": [
    "### Therefore identifying that 1442 of the 2378 publications have DOIs (936 do not)\n",
    "### _however, we don't know any of them are correct_ so it will best to acquire all top matches from CrossRef\n"
   ]
  },
  {
   "cell_type": "code",
   "execution_count": 6,
   "metadata": {},
   "outputs": [],
   "source": [
    "# Set up a \n",
    "cr = Crossref()"
   ]
  },
  {
   "cell_type": "code",
   "execution_count": 7,
   "metadata": {},
   "outputs": [
    {
     "data": {
      "text/plain": [
       "< Crossref \n",
       "URL: https://api.crossref.org\n",
       "KEY: None\n",
       "MAILTO: <your e-mail here\n",
       "ADDITIONAL UA STRING: None\n",
       ">"
      ]
     },
     "execution_count": 7,
     "metadata": {},
     "output_type": "execute_result"
    }
   ],
   "source": [
    "# set a mailto address, adding your e-mail will allow better reporting of issues\n",
    "Crossref(mailto = \"your e-mail here\")"
   ]
  },
  {
   "cell_type": "code",
   "execution_count": null,
   "metadata": {},
   "outputs": [],
   "source": []
  },
  {
   "cell_type": "code",
   "execution_count": 28,
   "metadata": {},
   "outputs": [
    {
     "data": {
      "text/plain": [
       "{'status': 'ok',\n",
       " 'message-type': 'work-list',\n",
       " 'message-version': '1.0.0',\n",
       " 'message': {'facets': {},\n",
       "  'total-results': 1772384,\n",
       "  'items': [{'title': ['HIV-1 DNA predicts disease progression and post-treatment virological control'],\n",
       "    'DOI': '10.7554/elife.03821'}],\n",
       "  'items-per-page': 1,\n",
       "  'query': {'start-index': 0, 'search-terms': None}}}"
      ]
     },
     "execution_count": 28,
     "metadata": {},
     "output_type": "execute_result"
    }
   ],
   "source": [
    "cr.works(query_title=df1.csv_post_title[12]\n",
    "             ,select=['title','DOI'],\n",
    "                      filter={'from_pub_date':'2011-01-01','until_pub_date':'2018-12-31','type':'journal-article'},\n",
    "                      limit=1)"
   ]
  },
  {
   "cell_type": "code",
   "execution_count": 11,
   "metadata": {},
   "outputs": [],
   "source": [
    "def CrossRefDoiTop1(df):\n",
    "    try:\n",
    "        search = cr.works(query_title=df.csv_post_title\n",
    "             ,select=['title','DOI'],\n",
    "                      filter={'from_pub_date':'2011-01-01','until_pub_date':'2018-12-31','type':'journal-article'},\n",
    "                      limit=1)\n",
    "        time.sleep(1)\n",
    "        return search['message']['items'][0]\n",
    "    except:\n",
    "        return ('None')\n",
    "    finally:\n",
    "        time.sleep(1)\n",
    "        pass"
   ]
  },
  {
   "cell_type": "markdown",
   "metadata": {},
   "source": [
    "### Testing the API request can be done for a small subset of the titles in the list\n",
    "\n",
    "#### Click on the trianlge to unfold the code\n"
   ]
  },
  {
   "cell_type": "markdown",
   "metadata": {},
   "source": [
    "<details><summary>Steps to run through with a subset of the dataframe</summary><br>\n",
    "\n",
    "```python\n",
    "# We can also take a short section of the dataframe, to check things are working\n",
    "df1mini = df1.iloc[10:15]\n",
    "\n",
    "# Then we can assign the API response to each row as a new column \n",
    "df1check= df1mini.assign(crossref_API_out =df1mini.apply(CrossRefDoiTop1, axis=1))\n",
    "\n",
    "# and then convert this column of data from json to a new dataframe (that can be joined or merged with existing data)\n",
    "newdata = pd.DataFrame(pd.io.json.json_normalize(df1check.crossref_API_out)) \n",
    "\n",
    "# have a look\n",
    "newdata\n",
    "```\n",
    "\n",
    "</details>"
   ]
  },
  {
   "cell_type": "markdown",
   "metadata": {},
   "source": [
    "###  For the main dataframe, we are going to split the data into a couple of sections.  This is in part to ensure that if the long process of collecting data is interrupted, will not need to rerun everything."
   ]
  },
  {
   "cell_type": "code",
   "execution_count": 18,
   "metadata": {},
   "outputs": [
    {
     "data": {
      "text/html": [
       "<div>\n",
       "<style scoped>\n",
       "    .dataframe tbody tr th:only-of-type {\n",
       "        vertical-align: middle;\n",
       "    }\n",
       "\n",
       "    .dataframe tbody tr th {\n",
       "        vertical-align: top;\n",
       "    }\n",
       "\n",
       "    .dataframe thead th {\n",
       "        text-align: right;\n",
       "    }\n",
       "</style>\n",
       "<table border=\"1\" class=\"dataframe\">\n",
       "  <thead>\n",
       "    <tr style=\"text-align: right;\">\n",
       "      <th></th>\n",
       "      <th>ID</th>\n",
       "      <th>DOI</th>\n",
       "      <th>complete</th>\n",
       "      <th>csv_post_title</th>\n",
       "    </tr>\n",
       "  </thead>\n",
       "  <tbody>\n",
       "    <tr>\n",
       "      <td>1601</td>\n",
       "      <td>839</td>\n",
       "      <td>10.4137/BMI.S16553</td>\n",
       "      <td>Patel S, Murphy D, Haralambieva E, Abdulla ZA,...</td>\n",
       "      <td>Increased expression of phosphorylated FADD in...</td>\n",
       "    </tr>\n",
       "    <tr>\n",
       "      <td>1602</td>\n",
       "      <td>2411</td>\n",
       "      <td>10.1016/j.omtn.2016.12.006</td>\n",
       "      <td>Patricio MI, Barnard AR, Orlans HO, McClements...</td>\n",
       "      <td>Inclusion of the Woodchuck Hepatitis Virus Pos...</td>\n",
       "    </tr>\n",
       "  </tbody>\n",
       "</table>\n",
       "</div>"
      ],
      "text/plain": [
       "        ID                         DOI  \\\n",
       "1601   839          10.4137/BMI.S16553   \n",
       "1602  2411  10.1016/j.omtn.2016.12.006   \n",
       "\n",
       "                                               complete  \\\n",
       "1601  Patel S, Murphy D, Haralambieva E, Abdulla ZA,...   \n",
       "1602  Patricio MI, Barnard AR, Orlans HO, McClements...   \n",
       "\n",
       "                                         csv_post_title  \n",
       "1601  Increased expression of phosphorylated FADD in...  \n",
       "1602  Inclusion of the Woodchuck Hepatitis Virus Pos...  "
      ]
     },
     "execution_count": 18,
     "metadata": {},
     "output_type": "execute_result"
    }
   ],
   "source": [
    "#cut main dataframe (df1) into 3 sections\n",
    "df1x1= df1[0:801]\n",
    "df1x2= df1[801:1601]\n",
    "df1x3= df1[1601:2379]#.reset_index()\n",
    "df1x3.head(2)"
   ]
  },
  {
   "cell_type": "code",
   "execution_count": 19,
   "metadata": {},
   "outputs": [],
   "source": [
    "# get information on the top hit in CrossRef for each title in the section of the dataframe (and save this as a csv file)\n",
    "\n",
    "df1x1out = df1x1.assign(crossref_API_out =df1x1.apply(CrossRefDoiTop1, axis=1))\n",
    "df1x1out.to_csv('bodDois1x1out.csv')"
   ]
  },
  {
   "cell_type": "code",
   "execution_count": 20,
   "metadata": {},
   "outputs": [
    {
     "data": {
      "text/html": [
       "<div>\n",
       "<style scoped>\n",
       "    .dataframe tbody tr th:only-of-type {\n",
       "        vertical-align: middle;\n",
       "    }\n",
       "\n",
       "    .dataframe tbody tr th {\n",
       "        vertical-align: top;\n",
       "    }\n",
       "\n",
       "    .dataframe thead th {\n",
       "        text-align: right;\n",
       "    }\n",
       "</style>\n",
       "<table border=\"1\" class=\"dataframe\">\n",
       "  <thead>\n",
       "    <tr style=\"text-align: right;\">\n",
       "      <th></th>\n",
       "      <th>ID</th>\n",
       "      <th>DOI</th>\n",
       "      <th>complete</th>\n",
       "      <th>csv_post_title</th>\n",
       "      <th>crossref_API_out</th>\n",
       "    </tr>\n",
       "  </thead>\n",
       "  <tbody>\n",
       "    <tr>\n",
       "      <td>0</td>\n",
       "      <td>1125</td>\n",
       "      <td>10.1186/s12881-014-0095-4</td>\n",
       "      <td>&amp;amp; , Fenwick AL, Goos JAC, Rankin J, Lord ...</td>\n",
       "      <td>Apparently synonymous substitutions in FGFR2 a...</td>\n",
       "      <td>{'title': ['Apparently synonymous substitution...</td>\n",
       "    </tr>\n",
       "    <tr>\n",
       "      <td>1</td>\n",
       "      <td>1996</td>\n",
       "      <td>10.1183/13993003.00321-2016</td>\n",
       "      <td>, Pattinson KT, Turner MR. A wider pathologic...</td>\n",
       "      <td>A wider pathological network underlying breath...</td>\n",
       "      <td>{'title': ['A wider pathological network under...</td>\n",
       "    </tr>\n",
       "    <tr>\n",
       "      <td>2</td>\n",
       "      <td>506</td>\n",
       "      <td>NaN</td>\n",
       "      <td>Adib-Samii P,  Rost N,  Traylor M,  Devan W, ...</td>\n",
       "      <td>17q25 Locus is associated with white matter hy...</td>\n",
       "      <td>{'title': ['17q25 Locus Is Associated With Whi...</td>\n",
       "    </tr>\n",
       "    <tr>\n",
       "      <td>3</td>\n",
       "      <td>1430</td>\n",
       "      <td>10.1093/annonc/mdu449</td>\n",
       "      <td>and I. Tomlinson*, Findlay JM, Middleton MR, ...</td>\n",
       "      <td>A systematic review and meta-analysis of somat...</td>\n",
       "      <td>{'title': ['A systematic review and meta-analy...</td>\n",
       "    </tr>\n",
       "    <tr>\n",
       "      <td>4</td>\n",
       "      <td>848</td>\n",
       "      <td>NaN</td>\n",
       "      <td>Dichgans M,  Malik R,  KÃ•_nig IR,  Rosand J,...</td>\n",
       "      <td>Shared genetic susceptibility to ischemic stro...</td>\n",
       "      <td>{'title': ['Shared Genetic Susceptibility to I...</td>\n",
       "    </tr>\n",
       "  </tbody>\n",
       "</table>\n",
       "</div>"
      ],
      "text/plain": [
       "     ID                          DOI  \\\n",
       "0  1125    10.1186/s12881-014-0095-4   \n",
       "1  1996  10.1183/13993003.00321-2016   \n",
       "2   506                          NaN   \n",
       "3  1430        10.1093/annonc/mdu449   \n",
       "4   848                          NaN   \n",
       "\n",
       "                                            complete  \\\n",
       "0   &amp; , Fenwick AL, Goos JAC, Rankin J, Lord ...   \n",
       "1   , Pattinson KT, Turner MR. A wider pathologic...   \n",
       "2   Adib-Samii P,  Rost N,  Traylor M,  Devan W, ...   \n",
       "3   and I. Tomlinson*, Findlay JM, Middleton MR, ...   \n",
       "4   Dichgans M,  Malik R,  KÃ•_nig IR,  Rosand J,...   \n",
       "\n",
       "                                      csv_post_title  \\\n",
       "0  Apparently synonymous substitutions in FGFR2 a...   \n",
       "1  A wider pathological network underlying breath...   \n",
       "2  17q25 Locus is associated with white matter hy...   \n",
       "3  A systematic review and meta-analysis of somat...   \n",
       "4  Shared genetic susceptibility to ischemic stro...   \n",
       "\n",
       "                                    crossref_API_out  \n",
       "0  {'title': ['Apparently synonymous substitution...  \n",
       "1  {'title': ['A wider pathological network under...  \n",
       "2  {'title': ['17q25 Locus Is Associated With Whi...  \n",
       "3  {'title': ['A systematic review and meta-analy...  \n",
       "4  {'title': ['Shared Genetic Susceptibility to I...  "
      ]
     },
     "execution_count": 20,
     "metadata": {},
     "output_type": "execute_result"
    }
   ],
   "source": [
    "df1x1out.head()"
   ]
  },
  {
   "cell_type": "code",
   "execution_count": 21,
   "metadata": {},
   "outputs": [],
   "source": [
    "df1x2out = df1x2.assign(crossref_API_out =df1x2.apply(CrossRefDoiTop1, axis=1))\n",
    "df1x2out.to_csv('bodDois1x2out.csv')"
   ]
  },
  {
   "cell_type": "code",
   "execution_count": 22,
   "metadata": {},
   "outputs": [
    {
     "data": {
      "text/html": [
       "<div>\n",
       "<style scoped>\n",
       "    .dataframe tbody tr th:only-of-type {\n",
       "        vertical-align: middle;\n",
       "    }\n",
       "\n",
       "    .dataframe tbody tr th {\n",
       "        vertical-align: top;\n",
       "    }\n",
       "\n",
       "    .dataframe thead th {\n",
       "        text-align: right;\n",
       "    }\n",
       "</style>\n",
       "<table border=\"1\" class=\"dataframe\">\n",
       "  <thead>\n",
       "    <tr style=\"text-align: right;\">\n",
       "      <th></th>\n",
       "      <th>ID</th>\n",
       "      <th>DOI</th>\n",
       "      <th>complete</th>\n",
       "      <th>csv_post_title</th>\n",
       "      <th>crossref_API_out</th>\n",
       "    </tr>\n",
       "  </thead>\n",
       "  <tbody>\n",
       "    <tr>\n",
       "      <td>801</td>\n",
       "      <td>969</td>\n",
       "      <td>10.2337/dc13-2539</td>\n",
       "      <td>Guest JF, Panca M, Sladkevicius E, Taheri S, S...</td>\n",
       "      <td>Clinical outcomes and cost-effectiveness of co...</td>\n",
       "      <td>{'title': ['Obstructive sleep apnea in childre...</td>\n",
       "    </tr>\n",
       "    <tr>\n",
       "      <td>802</td>\n",
       "      <td>1767</td>\n",
       "      <td>10.1182/blood-2015-05-647578</td>\n",
       "      <td>GuiÃ¨ze R, Robbe P, Clifford R, de Guibert S, ...</td>\n",
       "      <td>Presence of multiple recurrent mutations confe...</td>\n",
       "      <td>{'title': ['Presence of multiple recurrent mut...</td>\n",
       "    </tr>\n",
       "    <tr>\n",
       "      <td>803</td>\n",
       "      <td>1935</td>\n",
       "      <td>10.1038/nature14347</td>\n",
       "      <td>Gundem G, Van Loo P, Kremeyer B, Alexandrov LB...</td>\n",
       "      <td>The evolutionary history of lethal metastatic ...</td>\n",
       "      <td>{'title': ['Treatment of metastatic prostate c...</td>\n",
       "    </tr>\n",
       "    <tr>\n",
       "      <td>804</td>\n",
       "      <td>2060</td>\n",
       "      <td>10.1093/jac/dkw177</td>\n",
       "      <td>Guo Q, Tomich AD, McElheny CL, Cooper VS, Stoe...</td>\n",
       "      <td>Glutathione-S-transferase FosA6 of Klebsiella ...</td>\n",
       "      <td>{'title': ['Glutathione-S-transferase FosA6 of...</td>\n",
       "    </tr>\n",
       "    <tr>\n",
       "      <td>805</td>\n",
       "      <td>1690</td>\n",
       "      <td>10.1158/1055-9965.EPI-15-0363</td>\n",
       "      <td>Guo X, Long J, Zeng C, Michailidou K, Ghoussai...</td>\n",
       "      <td>Fine-Scale Mapping of the 4q24 Locus Identifie...</td>\n",
       "      <td>{'title': ['Fine-Scale Mapping of the 4q24 Loc...</td>\n",
       "    </tr>\n",
       "  </tbody>\n",
       "</table>\n",
       "</div>"
      ],
      "text/plain": [
       "       ID                            DOI  \\\n",
       "801   969              10.2337/dc13-2539   \n",
       "802  1767   10.1182/blood-2015-05-647578   \n",
       "803  1935            10.1038/nature14347   \n",
       "804  2060             10.1093/jac/dkw177   \n",
       "805  1690  10.1158/1055-9965.EPI-15-0363   \n",
       "\n",
       "                                              complete  \\\n",
       "801  Guest JF, Panca M, Sladkevicius E, Taheri S, S...   \n",
       "802  GuiÃ¨ze R, Robbe P, Clifford R, de Guibert S, ...   \n",
       "803  Gundem G, Van Loo P, Kremeyer B, Alexandrov LB...   \n",
       "804  Guo Q, Tomich AD, McElheny CL, Cooper VS, Stoe...   \n",
       "805  Guo X, Long J, Zeng C, Michailidou K, Ghoussai...   \n",
       "\n",
       "                                        csv_post_title  \\\n",
       "801  Clinical outcomes and cost-effectiveness of co...   \n",
       "802  Presence of multiple recurrent mutations confe...   \n",
       "803  The evolutionary history of lethal metastatic ...   \n",
       "804  Glutathione-S-transferase FosA6 of Klebsiella ...   \n",
       "805  Fine-Scale Mapping of the 4q24 Locus Identifie...   \n",
       "\n",
       "                                      crossref_API_out  \n",
       "801  {'title': ['Obstructive sleep apnea in childre...  \n",
       "802  {'title': ['Presence of multiple recurrent mut...  \n",
       "803  {'title': ['Treatment of metastatic prostate c...  \n",
       "804  {'title': ['Glutathione-S-transferase FosA6 of...  \n",
       "805  {'title': ['Fine-Scale Mapping of the 4q24 Loc...  "
      ]
     },
     "execution_count": 22,
     "metadata": {},
     "output_type": "execute_result"
    }
   ],
   "source": [
    "df1x2out.head()"
   ]
  },
  {
   "cell_type": "code",
   "execution_count": 23,
   "metadata": {},
   "outputs": [],
   "source": [
    "df1x3out = df1x3.assign(crossref_API_out =df1x3.apply(CrossRefDoiTop1, axis=1))\n",
    "df1x3out.to_csv('bodDois1x3out.csv')"
   ]
  },
  {
   "cell_type": "code",
   "execution_count": 24,
   "metadata": {
    "scrolled": false
   },
   "outputs": [],
   "source": [
    "# Bring these smaller dataframes together \n",
    "\n",
    "df1x_out = pd.concat([df1x1out, df1x2out, df1x3out])"
   ]
  },
  {
   "cell_type": "code",
   "execution_count": 27,
   "metadata": {
    "scrolled": false
   },
   "outputs": [
    {
     "data": {
      "text/html": [
       "<div>\n",
       "<style scoped>\n",
       "    .dataframe tbody tr th:only-of-type {\n",
       "        vertical-align: middle;\n",
       "    }\n",
       "\n",
       "    .dataframe tbody tr th {\n",
       "        vertical-align: top;\n",
       "    }\n",
       "\n",
       "    .dataframe thead th {\n",
       "        text-align: right;\n",
       "    }\n",
       "</style>\n",
       "<table border=\"1\" class=\"dataframe\">\n",
       "  <thead>\n",
       "    <tr style=\"text-align: right;\">\n",
       "      <th></th>\n",
       "      <th>ID</th>\n",
       "      <th>DOI</th>\n",
       "      <th>complete</th>\n",
       "      <th>csv_post_title</th>\n",
       "      <th>crossref_API_out</th>\n",
       "    </tr>\n",
       "  </thead>\n",
       "  <tbody>\n",
       "    <tr>\n",
       "      <td>0</td>\n",
       "      <td>1125</td>\n",
       "      <td>10.1186/s12881-014-0095-4</td>\n",
       "      <td>&amp;amp; , Fenwick AL, Goos JAC, Rankin J, Lord ...</td>\n",
       "      <td>Apparently synonymous substitutions in FGFR2 a...</td>\n",
       "      <td>{'title': ['Apparently synonymous substitution...</td>\n",
       "    </tr>\n",
       "    <tr>\n",
       "      <td>1</td>\n",
       "      <td>1996</td>\n",
       "      <td>10.1183/13993003.00321-2016</td>\n",
       "      <td>, Pattinson KT, Turner MR. A wider pathologic...</td>\n",
       "      <td>A wider pathological network underlying breath...</td>\n",
       "      <td>{'title': ['A wider pathological network under...</td>\n",
       "    </tr>\n",
       "    <tr>\n",
       "      <td>2</td>\n",
       "      <td>506</td>\n",
       "      <td>NaN</td>\n",
       "      <td>Adib-Samii P,  Rost N,  Traylor M,  Devan W, ...</td>\n",
       "      <td>17q25 Locus is associated with white matter hy...</td>\n",
       "      <td>{'title': ['17q25 Locus Is Associated With Whi...</td>\n",
       "    </tr>\n",
       "    <tr>\n",
       "      <td>3</td>\n",
       "      <td>1430</td>\n",
       "      <td>10.1093/annonc/mdu449</td>\n",
       "      <td>and I. Tomlinson*, Findlay JM, Middleton MR, ...</td>\n",
       "      <td>A systematic review and meta-analysis of somat...</td>\n",
       "      <td>{'title': ['A systematic review and meta-analy...</td>\n",
       "    </tr>\n",
       "    <tr>\n",
       "      <td>4</td>\n",
       "      <td>848</td>\n",
       "      <td>NaN</td>\n",
       "      <td>Dichgans M,  Malik R,  KÃ•_nig IR,  Rosand J,...</td>\n",
       "      <td>Shared genetic susceptibility to ischemic stro...</td>\n",
       "      <td>{'title': ['Shared Genetic Susceptibility to I...</td>\n",
       "    </tr>\n",
       "  </tbody>\n",
       "</table>\n",
       "</div>"
      ],
      "text/plain": [
       "     ID                          DOI  \\\n",
       "0  1125    10.1186/s12881-014-0095-4   \n",
       "1  1996  10.1183/13993003.00321-2016   \n",
       "2   506                          NaN   \n",
       "3  1430        10.1093/annonc/mdu449   \n",
       "4   848                          NaN   \n",
       "\n",
       "                                            complete  \\\n",
       "0   &amp; , Fenwick AL, Goos JAC, Rankin J, Lord ...   \n",
       "1   , Pattinson KT, Turner MR. A wider pathologic...   \n",
       "2   Adib-Samii P,  Rost N,  Traylor M,  Devan W, ...   \n",
       "3   and I. Tomlinson*, Findlay JM, Middleton MR, ...   \n",
       "4   Dichgans M,  Malik R,  KÃ•_nig IR,  Rosand J,...   \n",
       "\n",
       "                                      csv_post_title  \\\n",
       "0  Apparently synonymous substitutions in FGFR2 a...   \n",
       "1  A wider pathological network underlying breath...   \n",
       "2  17q25 Locus is associated with white matter hy...   \n",
       "3  A systematic review and meta-analysis of somat...   \n",
       "4  Shared genetic susceptibility to ischemic stro...   \n",
       "\n",
       "                                    crossref_API_out  \n",
       "0  {'title': ['Apparently synonymous substitution...  \n",
       "1  {'title': ['A wider pathological network under...  \n",
       "2  {'title': ['17q25 Locus Is Associated With Whi...  \n",
       "3  {'title': ['A systematic review and meta-analy...  \n",
       "4  {'title': ['Shared Genetic Susceptibility to I...  "
      ]
     },
     "execution_count": 27,
     "metadata": {},
     "output_type": "execute_result"
    }
   ],
   "source": [
    "#Save the work so we don't need to get the data again\n",
    "\n",
    "df1x_out.to_csv('./A1out_CrossRef_BRC_Bodlist_BODandCrossRefDois_Oct19.csv')\n",
    "df1x_out.to_json('./A1out_CrossRef_BRC_Bodlist_BODandCrossRefDois_Oct19.json', orient='records', lines=True)\n",
    "df1x_out.crossref_API_out.to_json('./A1out_CrossRef_API_data_alone_Oct19.json', orient='index')\n",
    "df1x_out.head()\n"
   ]
  },
  {
   "cell_type": "code",
   "execution_count": 26,
   "metadata": {},
   "outputs": [
    {
     "data": {
      "text/html": [
       "<div>\n",
       "<style scoped>\n",
       "    .dataframe tbody tr th:only-of-type {\n",
       "        vertical-align: middle;\n",
       "    }\n",
       "\n",
       "    .dataframe tbody tr th {\n",
       "        vertical-align: top;\n",
       "    }\n",
       "\n",
       "    .dataframe thead th {\n",
       "        text-align: right;\n",
       "    }\n",
       "</style>\n",
       "<table border=\"1\" class=\"dataframe\">\n",
       "  <thead>\n",
       "    <tr style=\"text-align: right;\">\n",
       "      <th></th>\n",
       "      <th>ID</th>\n",
       "      <th>DOI</th>\n",
       "      <th>complete</th>\n",
       "      <th>csv_post_title</th>\n",
       "      <th>crossref_API_out</th>\n",
       "    </tr>\n",
       "  </thead>\n",
       "  <tbody>\n",
       "  </tbody>\n",
       "</table>\n",
       "</div>"
      ],
      "text/plain": [
       "Empty DataFrame\n",
       "Columns: [ID, DOI, complete, csv_post_title, crossref_API_out]\n",
       "Index: []"
      ]
     },
     "execution_count": 26,
     "metadata": {},
     "output_type": "execute_result"
    }
   ],
   "source": [
    "#and check we don't have any gaps in our data from CrossRef\n",
    "df1x_out[df1x_out.crossref_API_out.isna()]"
   ]
  },
  {
   "cell_type": "code",
   "execution_count": null,
   "metadata": {},
   "outputs": [],
   "source": []
  },
  {
   "cell_type": "code",
   "execution_count": null,
   "metadata": {},
   "outputs": [],
   "source": []
  },
  {
   "cell_type": "code",
   "execution_count": null,
   "metadata": {},
   "outputs": [],
   "source": []
  }
 ],
 "metadata": {
  "kernelspec": {
   "display_name": "Python 3",
   "language": "python",
   "name": "python3"
  },
  "language_info": {
   "codemirror_mode": {
    "name": "ipython",
    "version": 3
   },
   "file_extension": ".py",
   "mimetype": "text/x-python",
   "name": "python",
   "nbconvert_exporter": "python",
   "pygments_lexer": "ipython3",
   "version": "3.7.6"
  }
 },
 "nbformat": 4,
 "nbformat_minor": 2
}
