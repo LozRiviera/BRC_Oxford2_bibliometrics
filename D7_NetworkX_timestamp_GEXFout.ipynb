{
 "cells": [
  {
   "cell_type": "markdown",
   "metadata": {},
   "source": [
    "#  Constructing a network diagram from the networks exported from CrossRef records as Author-to-Author edges and aggregated Author details"
   ]
  },
  {
   "cell_type": "markdown",
   "metadata": {},
   "source": [
    "To ensure that we don't loose any edges, we will create the graphs as MultiGraphs (multiple edges between two nodes).\n",
    "Then we can sum the weights by converting this MultiGraph to a normal Graph, or do this in Gephi on import.\n",
    "\n",
    "\n"
   ]
  },
  {
   "cell_type": "code",
   "execution_count": 76,
   "metadata": {},
   "outputs": [],
   "source": [
    "# library for data import and handling\n",
    "import pandas as pd\n",
    "\n",
    "# for construction and analysis of networks\n",
    "import networkx as nx"
   ]
  },
  {
   "cell_type": "markdown",
   "metadata": {},
   "source": [
    "---\n",
    "defining a function before we import our data\n",
    "\n",
    "\n",
    "### During our data processing we will want to reduce the network from a MultiGraph (many edges connecting the same nodes (many publications connecting the same authors) to a Graph with single connections with summed weights.\n"
   ]
  },
  {
   "cell_type": "code",
   "execution_count": 77,
   "metadata": {},
   "outputs": [],
   "source": [
    "# Function to create a Graph from weighted MultiGraph\n",
    "# using source (s), target (t) and weight data from edges\n",
    "\n",
    "def merge_edge_weights(Graph_in):\n",
    "    Graph_out = nx.Graph()\n",
    "    for s,t,data in Graph_in.edges(data=True):\n",
    "        w = data['weight'] if 'weight' in data else 1.0\n",
    "        if Graph_out.has_edge(s,t):\n",
    "            Graph_out[s][t]['weight'] += w\n",
    "        else:\n",
    "            Graph_out.add_edge(s, t, weight=w)\n",
    "    return Graph_out\n"
   ]
  },
  {
   "cell_type": "markdown",
   "metadata": {},
   "source": [
    "### First we will bring in the list of edges that we aquired from separating the author lists into 1-to-1 relationships"
   ]
  },
  {
   "cell_type": "code",
   "execution_count": 78,
   "metadata": {},
   "outputs": [
    {
     "data": {
      "text/html": [
       "<div>\n",
       "<style scoped>\n",
       "    .dataframe tbody tr th:only-of-type {\n",
       "        vertical-align: middle;\n",
       "    }\n",
       "\n",
       "    .dataframe tbody tr th {\n",
       "        vertical-align: top;\n",
       "    }\n",
       "\n",
       "    .dataframe thead th {\n",
       "        text-align: right;\n",
       "    }\n",
       "</style>\n",
       "<table border=\"1\" class=\"dataframe\">\n",
       "  <thead>\n",
       "    <tr style=\"text-align: right;\">\n",
       "      <th></th>\n",
       "      <th>source</th>\n",
       "      <th>target</th>\n",
       "      <th>source_auth</th>\n",
       "      <th>target_auth</th>\n",
       "      <th>timestamp</th>\n",
       "      <th>weight</th>\n",
       "      <th>DOI</th>\n",
       "      <th>CR_citations</th>\n",
       "      <th>DOI_low</th>\n",
       "      <th>research_group</th>\n",
       "      <th>group_type</th>\n",
       "    </tr>\n",
       "  </thead>\n",
       "  <tbody>\n",
       "    <tr>\n",
       "      <th>0</th>\n",
       "      <td>1684</td>\n",
       "      <td>8996</td>\n",
       "      <td>A. L.  Fenwick</td>\n",
       "      <td>J. A.  Goos</td>\n",
       "      <td>2014-08-30 14:03:56</td>\n",
       "      <td>0.111111</td>\n",
       "      <td>10.1186/s12881-014-0095-4</td>\n",
       "      <td>5</td>\n",
       "      <td>10.1186/s12881-014-0095-4</td>\n",
       "      <td>['genomic medicine']</td>\n",
       "      <td>['Theme']</td>\n",
       "    </tr>\n",
       "    <tr>\n",
       "      <th>1</th>\n",
       "      <td>1684</td>\n",
       "      <td>8693</td>\n",
       "      <td>A. L.  Fenwick</td>\n",
       "      <td>J.  Rankin</td>\n",
       "      <td>2014-08-30 14:03:56</td>\n",
       "      <td>0.111111</td>\n",
       "      <td>10.1186/s12881-014-0095-4</td>\n",
       "      <td>5</td>\n",
       "      <td>10.1186/s12881-014-0095-4</td>\n",
       "      <td>['genomic medicine']</td>\n",
       "      <td>['Theme']</td>\n",
       "    </tr>\n",
       "    <tr>\n",
       "      <th>2</th>\n",
       "      <td>1684</td>\n",
       "      <td>7142</td>\n",
       "      <td>A. L.  Fenwick</td>\n",
       "      <td>H.  Lord</td>\n",
       "      <td>2014-08-30 14:03:56</td>\n",
       "      <td>0.111111</td>\n",
       "      <td>10.1186/s12881-014-0095-4</td>\n",
       "      <td>5</td>\n",
       "      <td>10.1186/s12881-014-0095-4</td>\n",
       "      <td>['genomic medicine']</td>\n",
       "      <td>['Theme']</td>\n",
       "    </tr>\n",
       "    <tr>\n",
       "      <th>3</th>\n",
       "      <td>1684</td>\n",
       "      <td>18477</td>\n",
       "      <td>A. L.  Fenwick</td>\n",
       "      <td>T.  Lester</td>\n",
       "      <td>2014-08-30 14:03:56</td>\n",
       "      <td>0.111111</td>\n",
       "      <td>10.1186/s12881-014-0095-4</td>\n",
       "      <td>5</td>\n",
       "      <td>10.1186/s12881-014-0095-4</td>\n",
       "      <td>['genomic medicine']</td>\n",
       "      <td>['Theme']</td>\n",
       "    </tr>\n",
       "    <tr>\n",
       "      <th>4</th>\n",
       "      <td>1684</td>\n",
       "      <td>1637</td>\n",
       "      <td>A. L.  Fenwick</td>\n",
       "      <td>A. J. M.  Hoogeboom</td>\n",
       "      <td>2014-08-30 14:03:56</td>\n",
       "      <td>0.111111</td>\n",
       "      <td>10.1186/s12881-014-0095-4</td>\n",
       "      <td>5</td>\n",
       "      <td>10.1186/s12881-014-0095-4</td>\n",
       "      <td>['genomic medicine']</td>\n",
       "      <td>['Theme']</td>\n",
       "    </tr>\n",
       "  </tbody>\n",
       "</table>\n",
       "</div>"
      ],
      "text/plain": [
       "   source  target     source_auth          target_auth            timestamp  \\\n",
       "0    1684    8996  A. L.  Fenwick          J. A.  Goos  2014-08-30 14:03:56   \n",
       "1    1684    8693  A. L.  Fenwick           J.  Rankin  2014-08-30 14:03:56   \n",
       "2    1684    7142  A. L.  Fenwick             H.  Lord  2014-08-30 14:03:56   \n",
       "3    1684   18477  A. L.  Fenwick           T.  Lester  2014-08-30 14:03:56   \n",
       "4    1684    1637  A. L.  Fenwick  A. J. M.  Hoogeboom  2014-08-30 14:03:56   \n",
       "\n",
       "     weight                        DOI  CR_citations  \\\n",
       "0  0.111111  10.1186/s12881-014-0095-4             5   \n",
       "1  0.111111  10.1186/s12881-014-0095-4             5   \n",
       "2  0.111111  10.1186/s12881-014-0095-4             5   \n",
       "3  0.111111  10.1186/s12881-014-0095-4             5   \n",
       "4  0.111111  10.1186/s12881-014-0095-4             5   \n",
       "\n",
       "                     DOI_low        research_group group_type  \n",
       "0  10.1186/s12881-014-0095-4  ['genomic medicine']  ['Theme']  \n",
       "1  10.1186/s12881-014-0095-4  ['genomic medicine']  ['Theme']  \n",
       "2  10.1186/s12881-014-0095-4  ['genomic medicine']  ['Theme']  \n",
       "3  10.1186/s12881-014-0095-4  ['genomic medicine']  ['Theme']  \n",
       "4  10.1186/s12881-014-0095-4  ['genomic medicine']  ['Theme']  "
      ]
     },
     "execution_count": 78,
     "metadata": {},
     "output_type": "execute_result"
    }
   ],
   "source": [
    "all_edges = pd.read_csv('./D4out_edge_coded_for_graphing.csv')\n",
    "\n",
    "all_edges.head()"
   ]
  },
  {
   "cell_type": "markdown",
   "metadata": {},
   "source": [
    "### Now we bring in our additional information about particular authors (Nodes)"
   ]
  },
  {
   "cell_type": "code",
   "execution_count": 79,
   "metadata": {},
   "outputs": [
    {
     "data": {
      "text/plain": [
       "(20225, 10)"
      ]
     },
     "execution_count": 79,
     "metadata": {},
     "output_type": "execute_result"
    }
   ],
   "source": [
    "author_nodes = pd.read_csv('./D3out_Author_nodes_processed.csv', index_col=0)\n",
    "author_nodes.shape #.columns"
   ]
  },
  {
   "cell_type": "code",
   "execution_count": 80,
   "metadata": {},
   "outputs": [
    {
     "data": {
      "text/html": [
       "<div>\n",
       "<style scoped>\n",
       "    .dataframe tbody tr th:only-of-type {\n",
       "        vertical-align: middle;\n",
       "    }\n",
       "\n",
       "    .dataframe tbody tr th {\n",
       "        vertical-align: top;\n",
       "    }\n",
       "\n",
       "    .dataframe thead th {\n",
       "        text-align: right;\n",
       "    }\n",
       "</style>\n",
       "<table border=\"1\" class=\"dataframe\">\n",
       "  <thead>\n",
       "    <tr style=\"text-align: right;\">\n",
       "      <th></th>\n",
       "      <th>author</th>\n",
       "      <th>DOI</th>\n",
       "      <th>DOI_count</th>\n",
       "      <th>CR_citations</th>\n",
       "      <th>primary_affiliation</th>\n",
       "      <th>research_group</th>\n",
       "      <th>group_type</th>\n",
       "      <th>primary_group</th>\n",
       "      <th>primary_type</th>\n",
       "      <th>Ox_author</th>\n",
       "    </tr>\n",
       "  </thead>\n",
       "  <tbody>\n",
       "    <tr>\n",
       "      <th>0</th>\n",
       "      <td>A.  Abdel-Gadir</td>\n",
       "      <td>['10.1016/j.jcmg.2015.11.008']</td>\n",
       "      <td>1</td>\n",
       "      <td>80</td>\n",
       "      <td>{nan}</td>\n",
       "      <td>['cardiovascular']</td>\n",
       "      <td>['Theme']</td>\n",
       "      <td>cardiovascular</td>\n",
       "      <td>Theme</td>\n",
       "      <td>0</td>\n",
       "    </tr>\n",
       "    <tr>\n",
       "      <th>1</th>\n",
       "      <td>A.  Abe</td>\n",
       "      <td>['10.1080/15548627.2015.1100356']</td>\n",
       "      <td>1</td>\n",
       "      <td>3007</td>\n",
       "      <td>{nan}</td>\n",
       "      <td>['immunity and inflammation']</td>\n",
       "      <td>['Theme']</td>\n",
       "      <td>immunity and inflammation</td>\n",
       "      <td>Theme</td>\n",
       "      <td>0</td>\n",
       "    </tr>\n",
       "    <tr>\n",
       "      <th>2</th>\n",
       "      <td>A.  Abizaid</td>\n",
       "      <td>['10.1016/j.ijcard.2013.03.064']</td>\n",
       "      <td>1</td>\n",
       "      <td>1</td>\n",
       "      <td>{nan}</td>\n",
       "      <td>['cardiovascular']</td>\n",
       "      <td>['Theme']</td>\n",
       "      <td>cardiovascular</td>\n",
       "      <td>Theme</td>\n",
       "      <td>0</td>\n",
       "    </tr>\n",
       "    <tr>\n",
       "      <th>3</th>\n",
       "      <td>A.  Abubakar</td>\n",
       "      <td>['10.1371/journal.pone.0113360']</td>\n",
       "      <td>1</td>\n",
       "      <td>34</td>\n",
       "      <td>{nan}</td>\n",
       "      <td>['translational physiology']</td>\n",
       "      <td>['Theme']</td>\n",
       "      <td>translational physiology</td>\n",
       "      <td>Theme</td>\n",
       "      <td>0</td>\n",
       "    </tr>\n",
       "    <tr>\n",
       "      <th>4</th>\n",
       "      <td>A.  Abulí</td>\n",
       "      <td>['10.1136/gutjnl-2011-300537', '10.1186/1471-2...</td>\n",
       "      <td>2</td>\n",
       "      <td>106</td>\n",
       "      <td>{nan}</td>\n",
       "      <td>['genomic medicine', 'genomic medicine']</td>\n",
       "      <td>['Theme', 'Theme']</td>\n",
       "      <td>genomic medicine</td>\n",
       "      <td>Theme</td>\n",
       "      <td>0</td>\n",
       "    </tr>\n",
       "  </tbody>\n",
       "</table>\n",
       "</div>"
      ],
      "text/plain": [
       "            author                                                DOI  \\\n",
       "0  A.  Abdel-Gadir                     ['10.1016/j.jcmg.2015.11.008']   \n",
       "1          A.  Abe                  ['10.1080/15548627.2015.1100356']   \n",
       "2      A.  Abizaid                   ['10.1016/j.ijcard.2013.03.064']   \n",
       "3     A.  Abubakar                   ['10.1371/journal.pone.0113360']   \n",
       "4        A.  Abulí  ['10.1136/gutjnl-2011-300537', '10.1186/1471-2...   \n",
       "\n",
       "   DOI_count  CR_citations primary_affiliation  \\\n",
       "0          1            80               {nan}   \n",
       "1          1          3007               {nan}   \n",
       "2          1             1               {nan}   \n",
       "3          1            34               {nan}   \n",
       "4          2           106               {nan}   \n",
       "\n",
       "                             research_group          group_type  \\\n",
       "0                        ['cardiovascular']           ['Theme']   \n",
       "1             ['immunity and inflammation']           ['Theme']   \n",
       "2                        ['cardiovascular']           ['Theme']   \n",
       "3              ['translational physiology']           ['Theme']   \n",
       "4  ['genomic medicine', 'genomic medicine']  ['Theme', 'Theme']   \n",
       "\n",
       "               primary_group primary_type  Ox_author  \n",
       "0             cardiovascular        Theme          0  \n",
       "1  immunity and inflammation        Theme          0  \n",
       "2             cardiovascular        Theme          0  \n",
       "3   translational physiology        Theme          0  \n",
       "4           genomic medicine        Theme          0  "
      ]
     },
     "execution_count": 80,
     "metadata": {},
     "output_type": "execute_result"
    }
   ],
   "source": [
    "author_nodes.head()"
   ]
  },
  {
   "cell_type": "code",
   "execution_count": 81,
   "metadata": {},
   "outputs": [
    {
     "data": {
      "text/plain": [
       "author                 object\n",
       "DOI                    object\n",
       "DOI_count               int64\n",
       "CR_citations            int64\n",
       "primary_affiliation    object\n",
       "research_group         object\n",
       "group_type             object\n",
       "primary_group          object\n",
       "primary_type           object\n",
       "Ox_author               int64\n",
       "dtype: object"
      ]
     },
     "execution_count": 81,
     "metadata": {},
     "output_type": "execute_result"
    }
   ],
   "source": [
    "author_nodes.dtypes"
   ]
  },
  {
   "cell_type": "code",
   "execution_count": 82,
   "metadata": {},
   "outputs": [],
   "source": [
    "G =nx.from_pandas_edgelist(all_edges,  edge_attr=['weight', 'timestamp'], create_using=nx.MultiGraph())"
   ]
  },
  {
   "cell_type": "code",
   "execution_count": 83,
   "metadata": {},
   "outputs": [],
   "source": [
    "# Add some more data to the nodes in the network graph\n",
    "\n",
    "nx.set_node_attributes(G, pd.Series(author_nodes.author, index=author_nodes.index).to_dict(), 'author')\n",
    "nx.set_node_attributes(G, pd.Series(author_nodes.DOI_count, index=author_nodes.index).to_dict(), 'DOI_count')\n",
    "nx.set_node_attributes(G, pd.Series(author_nodes.CR_citations, index=author_nodes.index).to_dict(), 'CR_counts')\n",
    "\n",
    "nx.set_node_attributes(G, pd.Series(author_nodes.research_group, index=author_nodes.index).to_dict(), 'research_group')\n",
    "nx.set_node_attributes(G, pd.Series(author_nodes.group_type, index=author_nodes.index).to_dict(), 'group_type')\n",
    "nx.set_node_attributes(G, pd.Series(author_nodes.primary_group, index=author_nodes.index).to_dict(), 'primary_group')\n",
    "nx.set_node_attributes(G, pd.Series(author_nodes.primary_type, index=author_nodes.index).to_dict(), 'primary_group_type')\n",
    "nx.set_node_attributes(G, pd.Series(author_nodes.Ox_author, index=author_nodes.index).to_dict(), 'Ox_mentions')"
   ]
  },
  {
   "cell_type": "code",
   "execution_count": 84,
   "metadata": {
    "scrolled": true
   },
   "outputs": [
    {
     "data": {
      "text/plain": [
       "'Name: \\nType: MultiGraph\\nNumber of nodes: 20225\\nNumber of edges: 5395986\\nAverage degree: 533.5956'"
      ]
     },
     "execution_count": 84,
     "metadata": {},
     "output_type": "execute_result"
    }
   ],
   "source": [
    "nx.info(G)"
   ]
  },
  {
   "cell_type": "code",
   "execution_count": 85,
   "metadata": {},
   "outputs": [],
   "source": [
    "# Uncomment to save (approx 1.2 GB file)\n",
    "\n",
    "# nx.write_gexf(G, \"./author_networks/All_OxBRC2_multi.gexf\")"
   ]
  },
  {
   "cell_type": "code",
   "execution_count": 86,
   "metadata": {},
   "outputs": [],
   "source": [
    "# now we can merge multiple edges beween the same nodes\n",
    "\n",
    "AllG_merge = merge_edge_weights(G)"
   ]
  },
  {
   "cell_type": "code",
   "execution_count": 87,
   "metadata": {},
   "outputs": [
    {
     "data": {
      "text/plain": [
       "'Name: \\nType: Graph\\nNumber of nodes: 20225\\nNumber of edges: 4296252\\nAverage degree: 424.8457'"
      ]
     },
     "execution_count": 87,
     "metadata": {},
     "output_type": "execute_result"
    }
   ],
   "source": [
    "# same number of nodes, fewer edges\n",
    "nx.info(AllG_merge)"
   ]
  },
  {
   "cell_type": "markdown",
   "metadata": {},
   "source": [
    "--- \n",
    "\n",
    "## Dividing OxBRC2 publications into 3 equal sections\n",
    "\n",
    "---"
   ]
  },
  {
   "cell_type": "markdown",
   "metadata": {},
   "source": [
    "Based on the previous findings that:\n",
    "\n",
    "    - the publication rate over the course of OxBRC2 is linear overall \n",
    "    - splitting the publications into 3 sections allows comparison of publications for the start, middle, and end\n",
    "    - START  = before and including '2013-11-22 23:59:59+00:00'\n",
    "    - MIDDLE = after '2013-11-22 23:59:59+00:00' and up to and including '2015-07-09 23:59:59+00:00'\n",
    "    - END = after '2015-07-15 23:59:59+00:00'\n",
    "    \n",
    "\n",
    "---"
   ]
  },
  {
   "cell_type": "code",
   "execution_count": null,
   "metadata": {},
   "outputs": [],
   "source": []
  },
  {
   "cell_type": "code",
   "execution_count": 88,
   "metadata": {},
   "outputs": [],
   "source": [
    "StartG = nx.MultiGraph( [ (s,t,edge_attr) for s,t,\n",
    "                         edge_attr in G.edges(data=True) if edge_attr['timestamp']<='2013-11-22 23:59:59+00:00'])"
   ]
  },
  {
   "cell_type": "code",
   "execution_count": 89,
   "metadata": {},
   "outputs": [
    {
     "data": {
      "text/plain": [
       "'Name: \\nType: MultiGraph\\nNumber of nodes: 6684\\nNumber of edges: 368354\\nAverage degree: 110.2196'"
      ]
     },
     "execution_count": 89,
     "metadata": {},
     "output_type": "execute_result"
    }
   ],
   "source": [
    "nx.info(StartG)"
   ]
  },
  {
   "cell_type": "code",
   "execution_count": 90,
   "metadata": {},
   "outputs": [],
   "source": [
    "# Add some more data to the nodes in the network graph\n",
    "\n",
    "nx.set_node_attributes(StartG, pd.Series(author_nodes.author, index=author_nodes.index).to_dict(), 'author')\n",
    "nx.set_node_attributes(StartG, pd.Series(author_nodes.DOI_count, index=author_nodes.index).to_dict(), 'DOI_count')\n",
    "nx.set_node_attributes(StartG, pd.Series(author_nodes.CR_citations, index=author_nodes.index).to_dict(), 'CR_counts')\n",
    "\n",
    "nx.set_node_attributes(StartG, pd.Series(author_nodes.research_group, index=author_nodes.index).to_dict(), 'research_group')\n",
    "nx.set_node_attributes(StartG, pd.Series(author_nodes.group_type, index=author_nodes.index).to_dict(), 'group_type')\n",
    "nx.set_node_attributes(StartG, pd.Series(author_nodes.primary_group, index=author_nodes.index).to_dict(), 'primary_group')\n",
    "nx.set_node_attributes(StartG, pd.Series(author_nodes.primary_type, index=author_nodes.index).to_dict(), 'primary_group_type')\n",
    "nx.set_node_attributes(StartG, pd.Series(author_nodes.Ox_author, index=author_nodes.index).to_dict(), 'Ox_mentions')"
   ]
  },
  {
   "cell_type": "code",
   "execution_count": 91,
   "metadata": {},
   "outputs": [
    {
     "data": {
      "text/plain": [
       "5727.499999999998"
      ]
     },
     "execution_count": 91,
     "metadata": {},
     "output_type": "execute_result"
    }
   ],
   "source": [
    "StartG.size(weight='weight')"
   ]
  },
  {
   "cell_type": "code",
   "execution_count": 92,
   "metadata": {},
   "outputs": [
    {
     "data": {
      "text/plain": [
       "0.016492537627516356"
      ]
     },
     "execution_count": 92,
     "metadata": {},
     "output_type": "execute_result"
    }
   ],
   "source": [
    "nx.density(StartG)"
   ]
  },
  {
   "cell_type": "code",
   "execution_count": 93,
   "metadata": {},
   "outputs": [
    {
     "data": {
      "text/plain": [
       "False"
      ]
     },
     "execution_count": 93,
     "metadata": {},
     "output_type": "execute_result"
    }
   ],
   "source": [
    "nx.is_connected(StartG)\n"
   ]
  },
  {
   "cell_type": "code",
   "execution_count": null,
   "metadata": {},
   "outputs": [],
   "source": []
  },
  {
   "cell_type": "code",
   "execution_count": 94,
   "metadata": {},
   "outputs": [],
   "source": [
    "# Uncomment to save  (approx 90MB file)\n",
    "\n",
    "#nx.write_gexf(StartG, \"./author_networks/Start_OxBRC2_multi.gexf\")"
   ]
  },
  {
   "cell_type": "code",
   "execution_count": null,
   "metadata": {},
   "outputs": [],
   "source": []
  },
  {
   "cell_type": "code",
   "execution_count": 95,
   "metadata": {},
   "outputs": [],
   "source": [
    "StartG_merge = merge_edge_weights(StartG)"
   ]
  },
  {
   "cell_type": "code",
   "execution_count": 96,
   "metadata": {},
   "outputs": [
    {
     "data": {
      "text/plain": [
       "'Name: \\nType: Graph\\nNumber of nodes: 6684\\nNumber of edges: 288614\\nAverage degree:  86.3597'"
      ]
     },
     "execution_count": 96,
     "metadata": {},
     "output_type": "execute_result"
    }
   ],
   "source": [
    "nx.info(StartG_merge)"
   ]
  },
  {
   "cell_type": "code",
   "execution_count": 97,
   "metadata": {},
   "outputs": [
    {
     "data": {
      "text/plain": [
       "0.012922290119906409"
      ]
     },
     "execution_count": 97,
     "metadata": {},
     "output_type": "execute_result"
    }
   ],
   "source": [
    "nx.density(StartG_merge)"
   ]
  },
  {
   "cell_type": "code",
   "execution_count": null,
   "metadata": {},
   "outputs": [],
   "source": []
  },
  {
   "cell_type": "code",
   "execution_count": 98,
   "metadata": {},
   "outputs": [],
   "source": [
    "MidG = nx.MultiGraph( [ (s,t,edge_attr) for s,t,\n",
    "                       edge_attr in G.edges(data=True) if edge_attr['timestamp']>'2013-11-22 23:59:59+00:00' and edge_attr['timestamp']<='2015-07-09 23:59:59+00:00'])\n"
   ]
  },
  {
   "cell_type": "code",
   "execution_count": 99,
   "metadata": {},
   "outputs": [
    {
     "data": {
      "text/plain": [
       "'Name: \\nType: MultiGraph\\nNumber of nodes: 8697\\nNumber of edges: 1021205\\nAverage degree: 234.8407'"
      ]
     },
     "execution_count": 99,
     "metadata": {},
     "output_type": "execute_result"
    }
   ],
   "source": [
    "nx.info(MidG)"
   ]
  },
  {
   "cell_type": "code",
   "execution_count": 100,
   "metadata": {},
   "outputs": [],
   "source": [
    "# Add some more data to the nodes in the network graph\n",
    "\n",
    "nx.set_node_attributes(MidG, pd.Series(author_nodes.author, index=author_nodes.index).to_dict(), 'author')\n",
    "nx.set_node_attributes(MidG, pd.Series(author_nodes.DOI_count, index=author_nodes.index).to_dict(), 'DOI_count')\n",
    "nx.set_node_attributes(MidG, pd.Series(author_nodes.CR_citations, index=author_nodes.index).to_dict(), 'CR_counts')\n",
    "\n",
    "nx.set_node_attributes(MidG, pd.Series(author_nodes.research_group, index=author_nodes.index).to_dict(), 'research_group')\n",
    "nx.set_node_attributes(MidG, pd.Series(author_nodes.group_type, index=author_nodes.index).to_dict(), 'group_type')\n",
    "nx.set_node_attributes(MidG, pd.Series(author_nodes.primary_group, index=author_nodes.index).to_dict(), 'primary_group')\n",
    "nx.set_node_attributes(MidG, pd.Series(author_nodes.primary_type, index=author_nodes.index).to_dict(), 'primary_group_type')\n",
    "nx.set_node_attributes(MidG, pd.Series(author_nodes.Ox_author, index=author_nodes.index).to_dict(), 'Ox_mentions')"
   ]
  },
  {
   "cell_type": "code",
   "execution_count": 101,
   "metadata": {},
   "outputs": [
    {
     "data": {
      "text/plain": [
       "7208.500000000002"
      ]
     },
     "execution_count": 101,
     "metadata": {},
     "output_type": "execute_result"
    }
   ],
   "source": [
    "MidG.size(weight='weight')"
   ]
  },
  {
   "cell_type": "code",
   "execution_count": 102,
   "metadata": {},
   "outputs": [
    {
     "data": {
      "text/plain": [
       "0.02700560598939731"
      ]
     },
     "execution_count": 102,
     "metadata": {},
     "output_type": "execute_result"
    }
   ],
   "source": [
    "nx.density(MidG)"
   ]
  },
  {
   "cell_type": "code",
   "execution_count": 103,
   "metadata": {},
   "outputs": [],
   "source": [
    "# Uncomment to save  (approx 240MB file)\n",
    "\n",
    "#nx.write_gexf(MidG, \"./author_networks/Mid_OxBRC2_multi.gexf\")"
   ]
  },
  {
   "cell_type": "code",
   "execution_count": 104,
   "metadata": {},
   "outputs": [],
   "source": [
    "MidG_merge = merge_edge_weights(MidG)"
   ]
  },
  {
   "cell_type": "code",
   "execution_count": 105,
   "metadata": {},
   "outputs": [
    {
     "data": {
      "text/plain": [
       "'Name: \\nType: Graph\\nNumber of nodes: 8697\\nNumber of edges: 786972\\nAverage degree: 180.9755'"
      ]
     },
     "execution_count": 105,
     "metadata": {},
     "output_type": "execute_result"
    }
   ],
   "source": [
    "nx.info(MidG_merge)"
   ]
  },
  {
   "cell_type": "code",
   "execution_count": 106,
   "metadata": {},
   "outputs": [
    {
     "data": {
      "text/plain": [
       "0.02081135105751341"
      ]
     },
     "execution_count": 106,
     "metadata": {},
     "output_type": "execute_result"
    }
   ],
   "source": [
    "nx.density(MidG_merge)"
   ]
  },
  {
   "cell_type": "code",
   "execution_count": null,
   "metadata": {},
   "outputs": [],
   "source": []
  },
  {
   "cell_type": "code",
   "execution_count": 107,
   "metadata": {},
   "outputs": [],
   "source": [
    "EndG = nx.MultiGraph( [ (s,t,edge_attr) for s,t,\n",
    "                       edge_attr in G.edges(data=True) if edge_attr['timestamp']>'2015-07-09 23:59:59+00:00'])\n"
   ]
  },
  {
   "cell_type": "code",
   "execution_count": 108,
   "metadata": {},
   "outputs": [
    {
     "data": {
      "text/plain": [
       "'Name: \\nType: MultiGraph\\nNumber of nodes: 10913\\nNumber of edges: 4006427\\nAverage degree: 734.2485'"
      ]
     },
     "execution_count": 108,
     "metadata": {},
     "output_type": "execute_result"
    }
   ],
   "source": [
    "nx.info(EndG)"
   ]
  },
  {
   "cell_type": "code",
   "execution_count": 109,
   "metadata": {},
   "outputs": [],
   "source": [
    "# Add some more data to the nodes in the network graph\n",
    "\n",
    "nx.set_node_attributes(EndG, pd.Series(author_nodes.author, index=author_nodes.index).to_dict(), 'author')\n",
    "nx.set_node_attributes(EndG, pd.Series(author_nodes.DOI_count, index=author_nodes.index).to_dict(), 'DOI_count')\n",
    "nx.set_node_attributes(EndG, pd.Series(author_nodes.CR_citations, index=author_nodes.index).to_dict(), 'CR_counts')\n",
    "\n",
    "nx.set_node_attributes(EndG, pd.Series(author_nodes.research_group, index=author_nodes.index).to_dict(), 'research_group')\n",
    "nx.set_node_attributes(EndG, pd.Series(author_nodes.group_type, index=author_nodes.index).to_dict(), 'group_type')\n",
    "nx.set_node_attributes(EndG, pd.Series(author_nodes.primary_group, index=author_nodes.index).to_dict(), 'primary_group')\n",
    "nx.set_node_attributes(EndG, pd.Series(author_nodes.primary_type, index=author_nodes.index).to_dict(), 'primary_group_type')\n",
    "nx.set_node_attributes(EndG, pd.Series(author_nodes.Ox_author, index=author_nodes.index).to_dict(), 'Ox_mentions')"
   ]
  },
  {
   "cell_type": "code",
   "execution_count": 110,
   "metadata": {},
   "outputs": [
    {
     "data": {
      "text/plain": [
       "{'author': 'A.  Afshin',\n",
       " 'DOI_count': 2,\n",
       " 'CR_counts': 1503,\n",
       " 'research_group': \"['prevention and population care', 'biomedical informatics and technology', 'prevention and population care']\",\n",
       " 'group_type': \"['Theme', 'Theme', 'Theme']\",\n",
       " 'primary_group': 'prevention and population care',\n",
       " 'primary_group_type': 'Theme',\n",
       " 'Ox_mentions': 0}"
      ]
     },
     "execution_count": 110,
     "metadata": {},
     "output_type": "execute_result"
    }
   ],
   "source": [
    "EndG.nodes()[11]"
   ]
  },
  {
   "cell_type": "code",
   "execution_count": 111,
   "metadata": {},
   "outputs": [
    {
     "data": {
      "text/plain": [
       "8303.499999999995"
      ]
     },
     "execution_count": 111,
     "metadata": {},
     "output_type": "execute_result"
    }
   ],
   "source": [
    "EndG.size(weight='weight')"
   ]
  },
  {
   "cell_type": "code",
   "execution_count": 112,
   "metadata": {},
   "outputs": [
    {
     "data": {
      "text/plain": [
       "0.06728816999177445"
      ]
     },
     "execution_count": 112,
     "metadata": {},
     "output_type": "execute_result"
    }
   ],
   "source": [
    "nx.density(EndG)"
   ]
  },
  {
   "cell_type": "code",
   "execution_count": 113,
   "metadata": {},
   "outputs": [],
   "source": [
    "# Uncomment to save (approx 0.9 GB file)\n",
    "\n",
    "#nx.write_gexf(EndG, \"./author_networks/End_OxBRC2_multi.gexf\")"
   ]
  },
  {
   "cell_type": "code",
   "execution_count": 114,
   "metadata": {},
   "outputs": [],
   "source": [
    "EndG_merge = merge_edge_weights(EndG)"
   ]
  },
  {
   "cell_type": "code",
   "execution_count": 115,
   "metadata": {},
   "outputs": [
    {
     "data": {
      "text/plain": [
       "0.05935710738598239"
      ]
     },
     "execution_count": 115,
     "metadata": {},
     "output_type": "execute_result"
    }
   ],
   "source": [
    "nx.density(EndG_merge)"
   ]
  },
  {
   "cell_type": "code",
   "execution_count": 116,
   "metadata": {},
   "outputs": [],
   "source": [
    "df_stages_table = pd.DataFrame(data=[[AllG_merge.number_of_nodes(),\n",
    "                                      AllG_merge.number_of_edges(),\n",
    "                                      nx.density(AllG_merge)],\n",
    "                                     [StartG_merge.number_of_nodes(),\n",
    "                                      StartG_merge.number_of_edges(),\n",
    "                                      nx.density(StartG_merge)],\n",
    "                                     [MidG_merge.number_of_nodes(),\n",
    "                                      MidG_merge.number_of_edges(),\n",
    "                                      nx.density(MidG_merge) ],\n",
    "                                     [EndG_merge.number_of_nodes(),\n",
    "                                      EndG_merge.number_of_edges(),\n",
    "                                      nx.density(EndG_merge) ]],\n",
    "                               index=['All','Start','Middle', 'End'],\n",
    "                               columns=['Nodes (n)', 'Edges (n)','Network Density'])"
   ]
  },
  {
   "cell_type": "code",
   "execution_count": 124,
   "metadata": {},
   "outputs": [
    {
     "data": {
      "text/html": [
       "<div>\n",
       "<style scoped>\n",
       "    .dataframe tbody tr th:only-of-type {\n",
       "        vertical-align: middle;\n",
       "    }\n",
       "\n",
       "    .dataframe tbody tr th {\n",
       "        vertical-align: top;\n",
       "    }\n",
       "\n",
       "    .dataframe thead th {\n",
       "        text-align: right;\n",
       "    }\n",
       "</style>\n",
       "<table border=\"1\" class=\"dataframe\">\n",
       "  <thead>\n",
       "    <tr style=\"text-align: right;\">\n",
       "      <th></th>\n",
       "      <th>Nodes (n)</th>\n",
       "      <th>Edges (n)</th>\n",
       "      <th>Network Density</th>\n",
       "    </tr>\n",
       "  </thead>\n",
       "  <tbody>\n",
       "    <tr>\n",
       "      <th>All</th>\n",
       "      <td>20225</td>\n",
       "      <td>4296252</td>\n",
       "      <td>0.021007</td>\n",
       "    </tr>\n",
       "    <tr>\n",
       "      <th>Start</th>\n",
       "      <td>6684</td>\n",
       "      <td>288614</td>\n",
       "      <td>0.012922</td>\n",
       "    </tr>\n",
       "    <tr>\n",
       "      <th>Middle</th>\n",
       "      <td>8697</td>\n",
       "      <td>786972</td>\n",
       "      <td>0.020811</td>\n",
       "    </tr>\n",
       "    <tr>\n",
       "      <th>End</th>\n",
       "      <td>10913</td>\n",
       "      <td>3534201</td>\n",
       "      <td>0.059357</td>\n",
       "    </tr>\n",
       "  </tbody>\n",
       "</table>\n",
       "</div>"
      ],
      "text/plain": [
       "        Nodes (n)  Edges (n)  Network Density\n",
       "All         20225    4296252         0.021007\n",
       "Start        6684     288614         0.012922\n",
       "Middle       8697     786972         0.020811\n",
       "End         10913    3534201         0.059357"
      ]
     },
     "execution_count": 124,
     "metadata": {},
     "output_type": "execute_result"
    }
   ],
   "source": [
    "df_stages_table"
   ]
  },
  {
   "cell_type": "code",
   "execution_count": null,
   "metadata": {},
   "outputs": [],
   "source": []
  },
  {
   "cell_type": "markdown",
   "metadata": {},
   "source": [
    "---\n",
    "## Oxford nodes\n",
    "\n",
    "A rough approximation of the number of authors with associations to Oxford (geographical local network), from searching for terms in author's institution information.  This again highlights large variations in publisher policies and entries and highlights the need for better persistant and unique identifiers for researcher and organisations if we want toinvestigate further with any accuracy.\n",
    "\n",
    "---"
   ]
  },
  {
   "cell_type": "code",
   "execution_count": 118,
   "metadata": {},
   "outputs": [
    {
     "data": {
      "text/plain": [
       "'Name: \\nType: MultiGraph\\nNumber of nodes: 1606\\nNumber of edges: 24561\\nAverage degree:  30.5866'"
      ]
     },
     "execution_count": 118,
     "metadata": {},
     "output_type": "execute_result"
    }
   ],
   "source": [
    "AllG_Ox = G.subgraph([x for x,y in G.nodes(data=True) if y['Ox_mentions']>=1])\n",
    "nx.info(AllG_Ox)"
   ]
  },
  {
   "cell_type": "code",
   "execution_count": 119,
   "metadata": {},
   "outputs": [
    {
     "data": {
      "text/plain": [
       "'Name: \\nType: MultiGraph\\nNumber of nodes: 868\\nNumber of edges: 6848\\nAverage degree:  15.7788'"
      ]
     },
     "execution_count": 119,
     "metadata": {},
     "output_type": "execute_result"
    }
   ],
   "source": [
    "StartG_Ox = StartG.subgraph([x for x,y in StartG.nodes(data=True) if y['Ox_mentions']>=1]).copy()\n",
    "nx.info(StartG_Ox)"
   ]
  },
  {
   "cell_type": "code",
   "execution_count": 120,
   "metadata": {},
   "outputs": [
    {
     "data": {
      "text/plain": [
       "'Name: \\nType: MultiGraph\\nNumber of nodes: 1006\\nNumber of edges: 7878\\nAverage degree:  15.6620'"
      ]
     },
     "execution_count": 120,
     "metadata": {},
     "output_type": "execute_result"
    }
   ],
   "source": [
    "MidG_Ox = MidG.subgraph([x for x,y in MidG.nodes(data=True) if y['Ox_mentions']>=1])\n",
    "nx.info(MidG_Ox)"
   ]
  },
  {
   "cell_type": "code",
   "execution_count": 121,
   "metadata": {},
   "outputs": [
    {
     "data": {
      "text/plain": [
       "'Name: \\nType: MultiGraph\\nNumber of nodes: 1068\\nNumber of edges: 9835\\nAverage degree:  18.4176'"
      ]
     },
     "execution_count": 121,
     "metadata": {},
     "output_type": "execute_result"
    }
   ],
   "source": [
    "EndG_Ox = EndG.subgraph([x for x,y in EndG.nodes(data=True) if y['Ox_mentions']>=1]).copy()\n",
    "nx.info(EndG_Ox)"
   ]
  },
  {
   "cell_type": "code",
   "execution_count": null,
   "metadata": {},
   "outputs": [],
   "source": []
  },
  {
   "cell_type": "code",
   "execution_count": null,
   "metadata": {},
   "outputs": [],
   "source": []
  },
  {
   "cell_type": "code",
   "execution_count": null,
   "metadata": {},
   "outputs": [],
   "source": []
  },
  {
   "cell_type": "markdown",
   "metadata": {},
   "source": [
    "--- \n",
    "A quick point to highlight, you can merge edges in Gephi as well as networkx and this may give easier exploration and visualization for some.  To further analyse in networkx you may want to bring node aatributes into the 'merged' networks.\n",
    "(currently not needed here)"
   ]
  },
  {
   "cell_type": "code",
   "execution_count": 122,
   "metadata": {},
   "outputs": [
    {
     "data": {
      "text/plain": [
       "{'author': 'A. L.  Fenwick',\n",
       " 'DOI_count': 8,\n",
       " 'CR_counts': 424,\n",
       " 'research_group': \"['genomic medicine', 'genomic medicine', 'genomic medicine', 'genomic medicine', 'genomic medicine', 'genomic medicine', 'genomic medicine', 'cancer', 'molecular diagnostics', 'genomic medicine']\",\n",
       " 'group_type': \"['Theme', 'Theme', 'Theme', 'Theme', 'Theme', 'Theme', 'Theme', 'Theme', 'Working Group', 'Theme']\",\n",
       " 'primary_group': 'genomic medicine',\n",
       " 'primary_group_type': 'Theme',\n",
       " 'Ox_mentions': 2}"
      ]
     },
     "execution_count": 122,
     "metadata": {},
     "output_type": "execute_result"
    }
   ],
   "source": [
    "StartG.nodes[1684]"
   ]
  },
  {
   "cell_type": "code",
   "execution_count": 123,
   "metadata": {},
   "outputs": [
    {
     "data": {
      "text/plain": [
       "{}"
      ]
     },
     "execution_count": 123,
     "metadata": {},
     "output_type": "execute_result"
    }
   ],
   "source": [
    "StartG_merge.nodes[1684]"
   ]
  },
  {
   "cell_type": "code",
   "execution_count": null,
   "metadata": {},
   "outputs": [],
   "source": []
  },
  {
   "cell_type": "code",
   "execution_count": null,
   "metadata": {},
   "outputs": [],
   "source": []
  },
  {
   "cell_type": "code",
   "execution_count": null,
   "metadata": {},
   "outputs": [],
   "source": []
  },
  {
   "cell_type": "code",
   "execution_count": null,
   "metadata": {},
   "outputs": [],
   "source": []
  },
  {
   "cell_type": "code",
   "execution_count": null,
   "metadata": {},
   "outputs": [],
   "source": []
  }
 ],
 "metadata": {
  "kernelspec": {
   "display_name": "Python 3",
   "language": "python",
   "name": "python3"
  },
  "language_info": {
   "codemirror_mode": {
    "name": "ipython",
    "version": 3
   },
   "file_extension": ".py",
   "mimetype": "text/x-python",
   "name": "python",
   "nbconvert_exporter": "python",
   "pygments_lexer": "ipython3",
   "version": "3.7.6"
  }
 },
 "nbformat": 4,
 "nbformat_minor": 2
}
