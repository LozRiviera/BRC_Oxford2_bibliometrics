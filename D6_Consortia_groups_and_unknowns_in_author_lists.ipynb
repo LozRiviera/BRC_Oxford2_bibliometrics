{
 "cells": [
  {
   "cell_type": "markdown",
   "metadata": {},
   "source": [
    "\n",
    " # A Consortia of Confusion?\n",
    "\n",
    "\n",
    ">Many papers these days, especially in fields of medical research and clinical trials, are truely massive collaborative efforts.\n",
    "This can often mean a list of people who should be acknowledged, although the levels of contribution can vary, as can the ability of publishers to deal with this collaboration.\n",
    "This is understandable, but leaves another issue that need acknowledging when making associaition networks.\n",
    "\n",
    ">The involvement of research groupings in authorship lists creates a few issues with accuracy:\n",
    "    - In many cases the membership of the group or consortium is unpublished\n",
    "    - It may also be that the level of contrubution of groups directly to publications varies greatly\n",
    "    - Some members of the research group may also be listed separately as an author\n",
    "    \n",
    "However, author lists also have issues with deduplication and incorrect merging of authors that may cause more error than groups.\n",
    "\n",
    "### <div class=\"alert-success\"> It may be interesting to explore the formation of such groups as indicator of maturity in a research area and how this might modify the reproducibliy of finding or effects on treatment/policy in such areas? </div>"
   ]
  },
  {
   "cell_type": "markdown",
   "metadata": {},
   "source": [
    "## A look at the list of individual author nodes to check terminology for groups "
   ]
  },
  {
   "cell_type": "code",
   "execution_count": 1,
   "metadata": {},
   "outputs": [],
   "source": [
    "import pandas as pd\n",
    "\n",
    "# to aquire and display formatted references from Crossref\n",
    "from habanero import cn\n",
    "from IPython.display import display, Markdown"
   ]
  },
  {
   "cell_type": "markdown",
   "metadata": {},
   "source": [
    "### Now we bring in our additional information about particular authors (Nodes)"
   ]
  },
  {
   "cell_type": "code",
   "execution_count": 2,
   "metadata": {},
   "outputs": [
    {
     "data": {
      "text/plain": [
       "(20225, 10)"
      ]
     },
     "execution_count": 2,
     "metadata": {},
     "output_type": "execute_result"
    }
   ],
   "source": [
    "author_nodes = pd.read_csv('./D3out_Author_nodes_processed.csv',index_col=[0])\n",
    "author_nodes.shape #.columns"
   ]
  },
  {
   "cell_type": "code",
   "execution_count": 3,
   "metadata": {},
   "outputs": [
    {
     "data": {
      "text/html": [
       "<div>\n",
       "<style scoped>\n",
       "    .dataframe tbody tr th:only-of-type {\n",
       "        vertical-align: middle;\n",
       "    }\n",
       "\n",
       "    .dataframe tbody tr th {\n",
       "        vertical-align: top;\n",
       "    }\n",
       "\n",
       "    .dataframe thead th {\n",
       "        text-align: right;\n",
       "    }\n",
       "</style>\n",
       "<table border=\"1\" class=\"dataframe\">\n",
       "  <thead>\n",
       "    <tr style=\"text-align: right;\">\n",
       "      <th></th>\n",
       "      <th>author</th>\n",
       "      <th>DOI</th>\n",
       "      <th>DOI_count</th>\n",
       "      <th>CR_citations</th>\n",
       "      <th>primary_affiliation</th>\n",
       "      <th>research_group</th>\n",
       "      <th>group_type</th>\n",
       "      <th>primary_group</th>\n",
       "      <th>primary_type</th>\n",
       "      <th>Ox_author</th>\n",
       "    </tr>\n",
       "  </thead>\n",
       "  <tbody>\n",
       "    <tr>\n",
       "      <th>0</th>\n",
       "      <td>A.  Abdel-Gadir</td>\n",
       "      <td>['10.1016/j.jcmg.2015.11.008']</td>\n",
       "      <td>1</td>\n",
       "      <td>80</td>\n",
       "      <td>{nan}</td>\n",
       "      <td>['cardiovascular']</td>\n",
       "      <td>['Theme']</td>\n",
       "      <td>cardiovascular</td>\n",
       "      <td>Theme</td>\n",
       "      <td>0</td>\n",
       "    </tr>\n",
       "    <tr>\n",
       "      <th>1</th>\n",
       "      <td>A.  Abe</td>\n",
       "      <td>['10.1080/15548627.2015.1100356']</td>\n",
       "      <td>1</td>\n",
       "      <td>3007</td>\n",
       "      <td>{nan}</td>\n",
       "      <td>['immunity and inflammation']</td>\n",
       "      <td>['Theme']</td>\n",
       "      <td>immunity and inflammation</td>\n",
       "      <td>Theme</td>\n",
       "      <td>0</td>\n",
       "    </tr>\n",
       "    <tr>\n",
       "      <th>2</th>\n",
       "      <td>A.  Abizaid</td>\n",
       "      <td>['10.1016/j.ijcard.2013.03.064']</td>\n",
       "      <td>1</td>\n",
       "      <td>1</td>\n",
       "      <td>{nan}</td>\n",
       "      <td>['cardiovascular']</td>\n",
       "      <td>['Theme']</td>\n",
       "      <td>cardiovascular</td>\n",
       "      <td>Theme</td>\n",
       "      <td>0</td>\n",
       "    </tr>\n",
       "    <tr>\n",
       "      <th>3</th>\n",
       "      <td>A.  Abubakar</td>\n",
       "      <td>['10.1371/journal.pone.0113360']</td>\n",
       "      <td>1</td>\n",
       "      <td>34</td>\n",
       "      <td>{nan}</td>\n",
       "      <td>['translational physiology']</td>\n",
       "      <td>['Theme']</td>\n",
       "      <td>translational physiology</td>\n",
       "      <td>Theme</td>\n",
       "      <td>0</td>\n",
       "    </tr>\n",
       "    <tr>\n",
       "      <th>4</th>\n",
       "      <td>A.  Abulí</td>\n",
       "      <td>['10.1136/gutjnl-2011-300537', '10.1186/1471-2...</td>\n",
       "      <td>2</td>\n",
       "      <td>106</td>\n",
       "      <td>{nan}</td>\n",
       "      <td>['genomic medicine', 'genomic medicine']</td>\n",
       "      <td>['Theme', 'Theme']</td>\n",
       "      <td>genomic medicine</td>\n",
       "      <td>Theme</td>\n",
       "      <td>0</td>\n",
       "    </tr>\n",
       "  </tbody>\n",
       "</table>\n",
       "</div>"
      ],
      "text/plain": [
       "            author                                                DOI  \\\n",
       "0  A.  Abdel-Gadir                     ['10.1016/j.jcmg.2015.11.008']   \n",
       "1          A.  Abe                  ['10.1080/15548627.2015.1100356']   \n",
       "2      A.  Abizaid                   ['10.1016/j.ijcard.2013.03.064']   \n",
       "3     A.  Abubakar                   ['10.1371/journal.pone.0113360']   \n",
       "4        A.  Abulí  ['10.1136/gutjnl-2011-300537', '10.1186/1471-2...   \n",
       "\n",
       "   DOI_count  CR_citations primary_affiliation  \\\n",
       "0          1            80               {nan}   \n",
       "1          1          3007               {nan}   \n",
       "2          1             1               {nan}   \n",
       "3          1            34               {nan}   \n",
       "4          2           106               {nan}   \n",
       "\n",
       "                             research_group          group_type  \\\n",
       "0                        ['cardiovascular']           ['Theme']   \n",
       "1             ['immunity and inflammation']           ['Theme']   \n",
       "2                        ['cardiovascular']           ['Theme']   \n",
       "3              ['translational physiology']           ['Theme']   \n",
       "4  ['genomic medicine', 'genomic medicine']  ['Theme', 'Theme']   \n",
       "\n",
       "               primary_group primary_type  Ox_author  \n",
       "0             cardiovascular        Theme          0  \n",
       "1  immunity and inflammation        Theme          0  \n",
       "2             cardiovascular        Theme          0  \n",
       "3   translational physiology        Theme          0  \n",
       "4           genomic medicine        Theme          0  "
      ]
     },
     "execution_count": 3,
     "metadata": {},
     "output_type": "execute_result"
    }
   ],
   "source": [
    "author_nodes.head()"
   ]
  },
  {
   "cell_type": "code",
   "execution_count": 4,
   "metadata": {},
   "outputs": [
    {
     "data": {
      "text/plain": [
       "6"
      ]
     },
     "execution_count": 4,
     "metadata": {},
     "output_type": "execute_result"
    }
   ],
   "source": [
    "# Number of authors with the term 'Comittee'\n",
    "\n",
    "author_nodes[author_nodes.author.str.contains('Committee', regex=True, case=False)]['author'].count()"
   ]
  },
  {
   "cell_type": "code",
   "execution_count": 5,
   "metadata": {},
   "outputs": [
    {
     "data": {
      "text/plain": [
       "120"
      ]
     },
     "execution_count": 5,
     "metadata": {},
     "output_type": "execute_result"
    }
   ],
   "source": [
    "# Number of authors with the term 'Consortium'\n",
    "\n",
    "author_nodes[author_nodes.author.str.contains('Consortium', regex=True, case=False)]['author'].count()"
   ]
  },
  {
   "cell_type": "code",
   "execution_count": 6,
   "metadata": {},
   "outputs": [
    {
     "data": {
      "text/plain": [
       "37"
      ]
     },
     "execution_count": 6,
     "metadata": {},
     "output_type": "execute_result"
    }
   ],
   "source": [
    "author_nodes[author_nodes.author.str.contains('Group', regex=True, case=False)]['author'].count()"
   ]
  },
  {
   "cell_type": "code",
   "execution_count": 7,
   "metadata": {},
   "outputs": [
    {
     "data": {
      "text/plain": [
       "2"
      ]
     },
     "execution_count": 7,
     "metadata": {},
     "output_type": "execute_result"
    }
   ],
   "source": [
    "author_nodes[author_nodes.author.str.contains('Team', regex=True, case=False)]['author'].count()"
   ]
  },
  {
   "cell_type": "code",
   "execution_count": 8,
   "metadata": {},
   "outputs": [
    {
     "data": {
      "text/html": [
       "<div>\n",
       "<style scoped>\n",
       "    .dataframe tbody tr th:only-of-type {\n",
       "        vertical-align: middle;\n",
       "    }\n",
       "\n",
       "    .dataframe tbody tr th {\n",
       "        vertical-align: top;\n",
       "    }\n",
       "\n",
       "    .dataframe thead th {\n",
       "        text-align: right;\n",
       "    }\n",
       "</style>\n",
       "<table border=\"1\" class=\"dataframe\">\n",
       "  <thead>\n",
       "    <tr style=\"text-align: right;\">\n",
       "      <th></th>\n",
       "      <th>author</th>\n",
       "      <th>DOI</th>\n",
       "      <th>DOI_count</th>\n",
       "      <th>CR_citations</th>\n",
       "      <th>primary_affiliation</th>\n",
       "      <th>research_group</th>\n",
       "      <th>group_type</th>\n",
       "      <th>primary_group</th>\n",
       "      <th>primary_type</th>\n",
       "      <th>Ox_author</th>\n",
       "    </tr>\n",
       "  </thead>\n",
       "  <tbody>\n",
       "    <tr>\n",
       "      <th>2008</th>\n",
       "      <td>Asian Genetic Epidemiology Network Type 2 Diab...</td>\n",
       "      <td>['10.1038/ng.2897']</td>\n",
       "      <td>1</td>\n",
       "      <td>669</td>\n",
       "      <td>{nan}</td>\n",
       "      <td>['diabetes']</td>\n",
       "      <td>['Theme']</td>\n",
       "      <td>diabetes</td>\n",
       "      <td>Theme</td>\n",
       "      <td>0</td>\n",
       "    </tr>\n",
       "    <tr>\n",
       "      <th>2009</th>\n",
       "      <td>Australian Asthma Genetics Consortium (AAGC)</td>\n",
       "      <td>['10.1038/ng.2694']</td>\n",
       "      <td>1</td>\n",
       "      <td>155</td>\n",
       "      <td>{nan}</td>\n",
       "      <td>['immunity and inflammation']</td>\n",
       "      <td>['Theme']</td>\n",
       "      <td>immunity and inflammation</td>\n",
       "      <td>Theme</td>\n",
       "      <td>0</td>\n",
       "    </tr>\n",
       "    <tr>\n",
       "      <th>3767</th>\n",
       "      <td>C4D Consortium</td>\n",
       "      <td>['10.1182/blood-2012-06-436188']</td>\n",
       "      <td>1</td>\n",
       "      <td>54</td>\n",
       "      <td>{nan}</td>\n",
       "      <td>['cardiovascular']</td>\n",
       "      <td>['Theme']</td>\n",
       "      <td>cardiovascular</td>\n",
       "      <td>Theme</td>\n",
       "      <td>0</td>\n",
       "    </tr>\n",
       "    <tr>\n",
       "      <th>3768</th>\n",
       "      <td>CARDIOGENICS Consortium</td>\n",
       "      <td>['10.1038/ng.2480', '10.1182/blood-2012-06-436...</td>\n",
       "      <td>2</td>\n",
       "      <td>1084</td>\n",
       "      <td>{nan}</td>\n",
       "      <td>['diabetes', 'cardiovascular']</td>\n",
       "      <td>['Theme', 'Theme']</td>\n",
       "      <td>diabetes</td>\n",
       "      <td>Theme</td>\n",
       "      <td>0</td>\n",
       "    </tr>\n",
       "    <tr>\n",
       "      <th>3769</th>\n",
       "      <td>CARDIoGRAM Consortium</td>\n",
       "      <td>['10.1182/blood-2012-06-436188', '10.1038/ng.2...</td>\n",
       "      <td>2</td>\n",
       "      <td>466</td>\n",
       "      <td>{nan}</td>\n",
       "      <td>['cardiovascular', 'cardiovascular']</td>\n",
       "      <td>['Theme', 'Theme']</td>\n",
       "      <td>cardiovascular</td>\n",
       "      <td>Theme</td>\n",
       "      <td>0</td>\n",
       "    </tr>\n",
       "    <tr>\n",
       "      <th>...</th>\n",
       "      <td>...</td>\n",
       "      <td>...</td>\n",
       "      <td>...</td>\n",
       "      <td>...</td>\n",
       "      <td>...</td>\n",
       "      <td>...</td>\n",
       "      <td>...</td>\n",
       "      <td>...</td>\n",
       "      <td>...</td>\n",
       "      <td>...</td>\n",
       "    </tr>\n",
       "    <tr>\n",
       "      <th>20200</th>\n",
       "      <td>the ReproGen Consortium</td>\n",
       "      <td>['10.1093/hmg/ddu150']</td>\n",
       "      <td>1</td>\n",
       "      <td>57</td>\n",
       "      <td>{nan}</td>\n",
       "      <td>['genomic medicine']</td>\n",
       "      <td>['Theme']</td>\n",
       "      <td>genomic medicine</td>\n",
       "      <td>Theme</td>\n",
       "      <td>0</td>\n",
       "    </tr>\n",
       "    <tr>\n",
       "      <th>20201</th>\n",
       "      <td>the SLI Consortium</td>\n",
       "      <td>['10.1038/ejhg.2014.296']</td>\n",
       "      <td>1</td>\n",
       "      <td>31</td>\n",
       "      <td>{nan}</td>\n",
       "      <td>['immunity and inflammation']</td>\n",
       "      <td>['Theme']</td>\n",
       "      <td>immunity and inflammation</td>\n",
       "      <td>Theme</td>\n",
       "      <td>0</td>\n",
       "    </tr>\n",
       "    <tr>\n",
       "      <th>20204</th>\n",
       "      <td>the UK Brain Expression consortium</td>\n",
       "      <td>['10.1186/gb-2013-14-7-r75']</td>\n",
       "      <td>1</td>\n",
       "      <td>157</td>\n",
       "      <td>{nan}</td>\n",
       "      <td>['diabetes']</td>\n",
       "      <td>['Theme']</td>\n",
       "      <td>diabetes</td>\n",
       "      <td>Theme</td>\n",
       "      <td>0</td>\n",
       "    </tr>\n",
       "    <tr>\n",
       "      <th>20205</th>\n",
       "      <td>the Wellcome Trust Case Control Consortium 2</td>\n",
       "      <td>['10.1161/strokeaha.115.009387']</td>\n",
       "      <td>1</td>\n",
       "      <td>10</td>\n",
       "      <td>{nan}</td>\n",
       "      <td>['dementia and cerebrovascular disease']</td>\n",
       "      <td>['Theme']</td>\n",
       "      <td>dementia and cerebrovascular disease</td>\n",
       "      <td>Theme</td>\n",
       "      <td>0</td>\n",
       "    </tr>\n",
       "    <tr>\n",
       "      <th>20206</th>\n",
       "      <td>the eMERGE Consortium</td>\n",
       "      <td>['10.1371/journal.pgen.1004517']</td>\n",
       "      <td>1</td>\n",
       "      <td>129</td>\n",
       "      <td>{nan}</td>\n",
       "      <td>['diabetes']</td>\n",
       "      <td>['Theme']</td>\n",
       "      <td>diabetes</td>\n",
       "      <td>Theme</td>\n",
       "      <td>0</td>\n",
       "    </tr>\n",
       "  </tbody>\n",
       "</table>\n",
       "<p>120 rows × 10 columns</p>\n",
       "</div>"
      ],
      "text/plain": [
       "                                                  author  \\\n",
       "2008   Asian Genetic Epidemiology Network Type 2 Diab...   \n",
       "2009        Australian Asthma Genetics Consortium (AAGC)   \n",
       "3767                                      C4D Consortium   \n",
       "3768                             CARDIOGENICS Consortium   \n",
       "3769                               CARDIoGRAM Consortium   \n",
       "...                                                  ...   \n",
       "20200                            the ReproGen Consortium   \n",
       "20201                                 the SLI Consortium   \n",
       "20204                 the UK Brain Expression consortium   \n",
       "20205       the Wellcome Trust Case Control Consortium 2   \n",
       "20206                              the eMERGE Consortium   \n",
       "\n",
       "                                                     DOI  DOI_count  \\\n",
       "2008                                 ['10.1038/ng.2897']          1   \n",
       "2009                                 ['10.1038/ng.2694']          1   \n",
       "3767                    ['10.1182/blood-2012-06-436188']          1   \n",
       "3768   ['10.1038/ng.2480', '10.1182/blood-2012-06-436...          2   \n",
       "3769   ['10.1182/blood-2012-06-436188', '10.1038/ng.2...          2   \n",
       "...                                                  ...        ...   \n",
       "20200                             ['10.1093/hmg/ddu150']          1   \n",
       "20201                          ['10.1038/ejhg.2014.296']          1   \n",
       "20204                       ['10.1186/gb-2013-14-7-r75']          1   \n",
       "20205                   ['10.1161/strokeaha.115.009387']          1   \n",
       "20206                   ['10.1371/journal.pgen.1004517']          1   \n",
       "\n",
       "       CR_citations primary_affiliation  \\\n",
       "2008            669               {nan}   \n",
       "2009            155               {nan}   \n",
       "3767             54               {nan}   \n",
       "3768           1084               {nan}   \n",
       "3769            466               {nan}   \n",
       "...             ...                 ...   \n",
       "20200            57               {nan}   \n",
       "20201            31               {nan}   \n",
       "20204           157               {nan}   \n",
       "20205            10               {nan}   \n",
       "20206           129               {nan}   \n",
       "\n",
       "                                 research_group          group_type  \\\n",
       "2008                               ['diabetes']           ['Theme']   \n",
       "2009              ['immunity and inflammation']           ['Theme']   \n",
       "3767                         ['cardiovascular']           ['Theme']   \n",
       "3768             ['diabetes', 'cardiovascular']  ['Theme', 'Theme']   \n",
       "3769       ['cardiovascular', 'cardiovascular']  ['Theme', 'Theme']   \n",
       "...                                         ...                 ...   \n",
       "20200                      ['genomic medicine']           ['Theme']   \n",
       "20201             ['immunity and inflammation']           ['Theme']   \n",
       "20204                              ['diabetes']           ['Theme']   \n",
       "20205  ['dementia and cerebrovascular disease']           ['Theme']   \n",
       "20206                              ['diabetes']           ['Theme']   \n",
       "\n",
       "                              primary_group primary_type  Ox_author  \n",
       "2008                               diabetes        Theme          0  \n",
       "2009              immunity and inflammation        Theme          0  \n",
       "3767                         cardiovascular        Theme          0  \n",
       "3768                               diabetes        Theme          0  \n",
       "3769                         cardiovascular        Theme          0  \n",
       "...                                     ...          ...        ...  \n",
       "20200                      genomic medicine        Theme          0  \n",
       "20201             immunity and inflammation        Theme          0  \n",
       "20204                              diabetes        Theme          0  \n",
       "20205  dementia and cerebrovascular disease        Theme          0  \n",
       "20206                              diabetes        Theme          0  \n",
       "\n",
       "[120 rows x 10 columns]"
      ]
     },
     "execution_count": 8,
     "metadata": {},
     "output_type": "execute_result"
    }
   ],
   "source": [
    "# A look at some of the Consortia\n",
    "\n",
    "author_nodes[author_nodes.author.str.contains('Consortium', regex=True, case=False)]"
   ]
  },
  {
   "cell_type": "markdown",
   "metadata": {},
   "source": [
    "---\n",
    "### Following the process of counting authors in each of the CrossRef entries for OxBRC2 we can take a look at those DOIs that have no associated authors...returning to our eariler list of DOIs, as these won't feature in our author list.\n",
    "---"
   ]
  },
  {
   "cell_type": "code",
   "execution_count": 9,
   "metadata": {},
   "outputs": [
    {
     "data": {
      "text/plain": [
       "(2365, 17)"
      ]
     },
     "execution_count": 9,
     "metadata": {},
     "output_type": "execute_result"
    }
   ],
   "source": [
    "df= pd.read_csv('./C1in.csv',index_col=[0])\n",
    "df.shape"
   ]
  },
  {
   "cell_type": "code",
   "execution_count": 10,
   "metadata": {},
   "outputs": [
    {
     "data": {
      "text/html": [
       "<div>\n",
       "<style scoped>\n",
       "    .dataframe tbody tr th:only-of-type {\n",
       "        vertical-align: middle;\n",
       "    }\n",
       "\n",
       "    .dataframe tbody tr th {\n",
       "        vertical-align: top;\n",
       "    }\n",
       "\n",
       "    .dataframe thead th {\n",
       "        text-align: right;\n",
       "    }\n",
       "</style>\n",
       "<table border=\"1\" class=\"dataframe\">\n",
       "  <thead>\n",
       "    <tr style=\"text-align: right;\">\n",
       "      <th></th>\n",
       "      <th>finaldoi_lower</th>\n",
       "      <th>ID</th>\n",
       "      <th>complete</th>\n",
       "      <th>FinalDOI</th>\n",
       "      <th>api_add</th>\n",
       "      <th>doi</th>\n",
       "      <th>Dim_times_cited</th>\n",
       "      <th>recent_citations</th>\n",
       "      <th>relative_citation_ratio</th>\n",
       "      <th>field_citation_ratio</th>\n",
       "      <th>license</th>\n",
       "      <th>pub_date_CR_API</th>\n",
       "      <th>CR_times_cited</th>\n",
       "      <th>authors_CR</th>\n",
       "      <th>year</th>\n",
       "      <th>month</th>\n",
       "      <th>auth_number</th>\n",
       "    </tr>\n",
       "  </thead>\n",
       "  <tbody>\n",
       "    <tr>\n",
       "      <th>0</th>\n",
       "      <td>10.1186/s12881-014-0095-4</td>\n",
       "      <td>1125</td>\n",
       "      <td>&amp;amp; , fenwick al, goos jac, rankin j, lord h...</td>\n",
       "      <td>10.1186/s12881-014-0095-4</td>\n",
       "      <td>{'doi': '10.1186/s12881-014-0095-4', 'times_ci...</td>\n",
       "      <td>10.1186/s12881-014-0095-4</td>\n",
       "      <td>7.0</td>\n",
       "      <td>4.0</td>\n",
       "      <td>0.24</td>\n",
       "      <td>0.78</td>\n",
       "      <td>This data has been sourced via the Dimensions ...</td>\n",
       "      <td>2014-08-30 14:03:56+00:00</td>\n",
       "      <td>5.0</td>\n",
       "      <td>[{'given': 'Aimee L', 'family': 'Fenwick', 'se...</td>\n",
       "      <td>2014.0</td>\n",
       "      <td>8.0</td>\n",
       "      <td>10.0</td>\n",
       "    </tr>\n",
       "    <tr>\n",
       "      <th>1</th>\n",
       "      <td>10.1183/13993003.00321-2016</td>\n",
       "      <td>1996</td>\n",
       "      <td>, pattinson kt, turner mr. a wider pathologica...</td>\n",
       "      <td>10.1183/13993003.00321-2016</td>\n",
       "      <td>{'doi': '10.1183/13993003.00321-2016', 'times_...</td>\n",
       "      <td>10.1183/13993003.00321-2016</td>\n",
       "      <td>4.0</td>\n",
       "      <td>3.0</td>\n",
       "      <td>0.57</td>\n",
       "      <td>0.99</td>\n",
       "      <td>This data has been sourced via the Dimensions ...</td>\n",
       "      <td>2016-06-01 01:53:39+00:00</td>\n",
       "      <td>4.0</td>\n",
       "      <td>[{'given': 'Kyle T.S.', 'family': 'Pattinson',...</td>\n",
       "      <td>2016.0</td>\n",
       "      <td>6.0</td>\n",
       "      <td>2.0</td>\n",
       "    </tr>\n",
       "  </tbody>\n",
       "</table>\n",
       "</div>"
      ],
      "text/plain": [
       "                finaldoi_lower    ID  \\\n",
       "0    10.1186/s12881-014-0095-4  1125   \n",
       "1  10.1183/13993003.00321-2016  1996   \n",
       "\n",
       "                                            complete  \\\n",
       "0  &amp; , fenwick al, goos jac, rankin j, lord h...   \n",
       "1  , pattinson kt, turner mr. a wider pathologica...   \n",
       "\n",
       "                      FinalDOI  \\\n",
       "0    10.1186/s12881-014-0095-4   \n",
       "1  10.1183/13993003.00321-2016   \n",
       "\n",
       "                                             api_add  \\\n",
       "0  {'doi': '10.1186/s12881-014-0095-4', 'times_ci...   \n",
       "1  {'doi': '10.1183/13993003.00321-2016', 'times_...   \n",
       "\n",
       "                           doi  Dim_times_cited  recent_citations  \\\n",
       "0    10.1186/s12881-014-0095-4              7.0               4.0   \n",
       "1  10.1183/13993003.00321-2016              4.0               3.0   \n",
       "\n",
       "   relative_citation_ratio  field_citation_ratio  \\\n",
       "0                     0.24                  0.78   \n",
       "1                     0.57                  0.99   \n",
       "\n",
       "                                             license  \\\n",
       "0  This data has been sourced via the Dimensions ...   \n",
       "1  This data has been sourced via the Dimensions ...   \n",
       "\n",
       "             pub_date_CR_API  CR_times_cited  \\\n",
       "0  2014-08-30 14:03:56+00:00             5.0   \n",
       "1  2016-06-01 01:53:39+00:00             4.0   \n",
       "\n",
       "                                          authors_CR    year  month  \\\n",
       "0  [{'given': 'Aimee L', 'family': 'Fenwick', 'se...  2014.0    8.0   \n",
       "1  [{'given': 'Kyle T.S.', 'family': 'Pattinson',...  2016.0    6.0   \n",
       "\n",
       "   auth_number  \n",
       "0         10.0  \n",
       "1          2.0  "
      ]
     },
     "execution_count": 10,
     "metadata": {},
     "output_type": "execute_result"
    }
   ],
   "source": [
    "df.head(2)"
   ]
  },
  {
   "cell_type": "code",
   "execution_count": 11,
   "metadata": {},
   "outputs": [
    {
     "data": {
      "text/plain": [
       "(6, 17)"
      ]
     },
     "execution_count": 11,
     "metadata": {},
     "output_type": "execute_result"
    }
   ],
   "source": [
    "df2 = df[df.auth_number.isna()]\n",
    "df2.shape"
   ]
  },
  {
   "cell_type": "code",
   "execution_count": 12,
   "metadata": {},
   "outputs": [
    {
     "data": {
      "text/plain": [
       "0    10.3978/j.issn.2225-319X.2014.05.14\n",
       "1          10.1016/s0140-6736(12)60768-5\n",
       "2    10.3978/j.issn.2305-5839.2015.09.12\n",
       "3                    10.1056/nejmx120009\n",
       "4                   10.1002/cyto.b.21165\n",
       "5              10.5083/ejcm.20424884.147\n",
       "dtype: object"
      ]
     },
     "execution_count": 12,
     "metadata": {},
     "output_type": "execute_result"
    }
   ],
   "source": [
    "ids=pd.Series(df2.FinalDOI.values)\n",
    "ids"
   ]
  },
  {
   "cell_type": "code",
   "execution_count": 13,
   "metadata": {},
   "outputs": [
    {
     "data": {
      "text/markdown": [
       "## Publications without authors? Empty author fields "
      ],
      "text/plain": [
       "<IPython.core.display.Markdown object>"
      ]
     },
     "metadata": {},
     "output_type": "display_data"
    },
    {
     "data": {
      "text/markdown": [
       "---"
      ],
      "text/plain": [
       "<IPython.core.display.Markdown object>"
      ]
     },
     "metadata": {},
     "output_type": "display_data"
    },
    {
     "name": "stdout",
     "output_type": "stream",
     "text": [
      "No data returned\n"
     ]
    },
    {
     "data": {
      "text/markdown": [
       "---"
      ],
      "text/plain": [
       "<IPython.core.display.Markdown object>"
      ]
     },
     "metadata": {},
     "output_type": "display_data"
    },
    {
     "name": "stdout",
     "output_type": "stream",
     "text": [
      "The benefits and harms of intravenous thrombolysis with recombinant tissue plasminogen activator within 6 h of acute ischaemic stroke (the third international stroke trial [IST-3]): a randomised controlled trial. (2012). The Lancet, 379(9834), 2352–2363. doi:10.1016/s0140-6736(12)60768-5\n",
      "\n"
     ]
    },
    {
     "data": {
      "text/markdown": [
       "---"
      ],
      "text/plain": [
       "<IPython.core.display.Markdown object>"
      ]
     },
     "metadata": {},
     "output_type": "display_data"
    },
    {
     "name": "stdout",
     "output_type": "stream",
     "text": [
      "No data returned\n"
     ]
    },
    {
     "data": {
      "text/markdown": [
       "---"
      ],
      "text/plain": [
       "<IPython.core.display.Markdown object>"
      ]
     },
     "metadata": {},
     "output_type": "display_data"
    },
    {
     "name": "stdout",
     "output_type": "stream",
     "text": [
      "The Perpetual Challenge of Infectious Diseases. (2012). New England Journal of Medicine, 366(9), 868–868. doi:10.1056/nejmx120009\n",
      "\n"
     ]
    },
    {
     "data": {
      "text/markdown": [
       "---"
      ],
      "text/plain": [
       "<IPython.core.display.Markdown object>"
      ]
     },
     "metadata": {},
     "output_type": "display_data"
    },
    {
     "name": "stdout",
     "output_type": "stream",
     "text": [
      "No data returned\n"
     ]
    },
    {
     "data": {
      "text/markdown": [
       "---"
      ],
      "text/plain": [
       "<IPython.core.display.Markdown object>"
      ]
     },
     "metadata": {},
     "output_type": "display_data"
    },
    {
     "name": "stdout",
     "output_type": "stream",
     "text": [
      "No data returned\n"
     ]
    },
    {
     "data": {
      "text/markdown": [
       "---"
      ],
      "text/plain": [
       "<IPython.core.display.Markdown object>"
      ]
     },
     "metadata": {},
     "output_type": "display_data"
    }
   ],
   "source": [
    "\n",
    "display(Markdown('## Publications without authors? Empty author fields '))\n",
    "display(Markdown('---'))\n",
    "\n",
    "for i in range(0,len(ids)):\n",
    "    try:\n",
    "        print (cn.content_negotiation(ids = ids[i], format = \"text\", style='apa'))\n",
    "        display(Markdown('---'))\n",
    "    except:\n",
    "        print ('No data returned')\n",
    "        display(Markdown('---'))\n"
   ]
  },
  {
   "cell_type": "markdown",
   "metadata": {},
   "source": [
    "Further examination of this small number of publications showed that author lists were simply missing, either just this field \n",
    "\n",
    "The numbers of authors can be updated below if desired.  The 1237 authors in one publication is a rare case where the full membership of a group/consortium was listed in the supplementary data."
   ]
  },
  {
   "cell_type": "code",
   "execution_count": 14,
   "metadata": {},
   "outputs": [
    {
     "data": {
      "text/html": [
       "<div>\n",
       "<style scoped>\n",
       "    .dataframe tbody tr th:only-of-type {\n",
       "        vertical-align: middle;\n",
       "    }\n",
       "\n",
       "    .dataframe tbody tr th {\n",
       "        vertical-align: top;\n",
       "    }\n",
       "\n",
       "    .dataframe thead th {\n",
       "        text-align: right;\n",
       "    }\n",
       "</style>\n",
       "<table border=\"1\" class=\"dataframe\">\n",
       "  <thead>\n",
       "    <tr style=\"text-align: right;\">\n",
       "      <th></th>\n",
       "      <th>finaldoi_lower</th>\n",
       "      <th>ID</th>\n",
       "      <th>complete</th>\n",
       "      <th>FinalDOI</th>\n",
       "      <th>api_add</th>\n",
       "      <th>doi</th>\n",
       "      <th>Dim_times_cited</th>\n",
       "      <th>recent_citations</th>\n",
       "      <th>relative_citation_ratio</th>\n",
       "      <th>field_citation_ratio</th>\n",
       "      <th>license</th>\n",
       "      <th>pub_date_CR_API</th>\n",
       "      <th>CR_times_cited</th>\n",
       "      <th>authors_CR</th>\n",
       "      <th>year</th>\n",
       "      <th>month</th>\n",
       "      <th>auth_number</th>\n",
       "    </tr>\n",
       "  </thead>\n",
       "  <tbody>\n",
       "  </tbody>\n",
       "</table>\n",
       "</div>"
      ],
      "text/plain": [
       "Empty DataFrame\n",
       "Columns: [finaldoi_lower, ID, complete, FinalDOI, api_add, doi, Dim_times_cited, recent_citations, relative_citation_ratio, field_citation_ratio, license, pub_date_CR_API, CR_times_cited, authors_CR, year, month, auth_number]\n",
       "Index: []"
      ]
     },
     "execution_count": 14,
     "metadata": {},
     "output_type": "execute_result"
    }
   ],
   "source": [
    "df3=df\n",
    "\n",
    "df3.loc[1826,'auth_number']=8\n",
    "df3.loc[936,'auth_number']=4\n",
    "df3.loc[976,'auth_number']=1237\n",
    "df3.loc[1828,'auth_number']=6\n",
    "df3.loc[1580,'auth_number']=3\n",
    "df3.loc[1289,'auth_number']=2\n",
    "\n",
    "\n",
    "df3[df3.auth_number.isna()]"
   ]
  },
  {
   "cell_type": "code",
   "execution_count": 15,
   "metadata": {},
   "outputs": [
    {
     "data": {
      "text/plain": [
       "finaldoi_lower                                 10.1016/s0140-6736(12)60768-5\n",
       "ID                                                                        53\n",
       "complete                   ist collaborative group, sandercock p, wardlaw...\n",
       "FinalDOI                                       10.1016/s0140-6736(12)60768-5\n",
       "api_add                    {'doi': '10.1016/s0140-6736(12)60768-5', 'time...\n",
       "doi                                            10.1016/s0140-6736(12)60768-5\n",
       "Dim_times_cited                                                          813\n",
       "recent_citations                                                         163\n",
       "relative_citation_ratio                                                32.35\n",
       "field_citation_ratio                                                   134.1\n",
       "license                    This data has been sourced via the Dimensions ...\n",
       "pub_date_CR_API                                    2012-05-30 15:47:05+00:00\n",
       "CR_times_cited                                                           688\n",
       "authors_CR                                                               NaN\n",
       "year                                                                    2012\n",
       "month                                                                      5\n",
       "auth_number                                                             1237\n",
       "Name: 976, dtype: object"
      ]
     },
     "execution_count": 15,
     "metadata": {},
     "output_type": "execute_result"
    }
   ],
   "source": [
    "df.loc[976]"
   ]
  },
  {
   "cell_type": "code",
   "execution_count": null,
   "metadata": {},
   "outputs": [],
   "source": []
  },
  {
   "cell_type": "code",
   "execution_count": null,
   "metadata": {},
   "outputs": [],
   "source": []
  },
  {
   "cell_type": "code",
   "execution_count": null,
   "metadata": {},
   "outputs": [],
   "source": []
  },
  {
   "cell_type": "code",
   "execution_count": null,
   "metadata": {},
   "outputs": [],
   "source": []
  }
 ],
 "metadata": {
  "kernelspec": {
   "display_name": "Python 3",
   "language": "python",
   "name": "python3"
  },
  "language_info": {
   "codemirror_mode": {
    "name": "ipython",
    "version": 3
   },
   "file_extension": ".py",
   "mimetype": "text/x-python",
   "name": "python",
   "nbconvert_exporter": "python",
   "pygments_lexer": "ipython3",
   "version": "3.7.6"
  }
 },
 "nbformat": 4,
 "nbformat_minor": 2
}
