{
 "cells": [
  {
   "cell_type": "markdown",
   "metadata": {},
   "source": [
    "## Using a manually- colated list of references to to search for DOIs using the Crossref API with the python library 'habanero' \n",
    "(conda installed v0.6)\n",
    "check with first ten \n",
    "\n"
   ]
  },
  {
   "cell_type": "markdown",
   "metadata": {},
   "source": [
    "code for basic install and a simple search of the works using a query and a filter\n",
    "\n"
   ]
  },
  {
   "cell_type": "code",
   "execution_count": 1,
   "metadata": {},
   "outputs": [],
   "source": [
    "import pandas as pd\n",
    "from habanero import Crossref, exceptions\n",
    "import time"
   ]
  },
  {
   "cell_type": "markdown",
   "metadata": {},
   "source": [
    "### First bring in the existing list of publictaions (using the columns needed)"
   ]
  },
  {
   "cell_type": "code",
   "execution_count": 3,
   "metadata": {},
   "outputs": [
    {
     "data": {
      "text/plain": [
       "(2378, 4)"
      ]
     },
     "execution_count": 3,
     "metadata": {},
     "output_type": "execute_result"
    }
   ],
   "source": [
    "df1 = pd.read_excel('./Source_files/2019-05-07-BRC2 publications-DOI_LBedit.xlsx', sheet_name='current_list', usecols=[0,1,2,3])\n",
    "df1.shape"
   ]
  },
  {
   "cell_type": "code",
   "execution_count": 4,
   "metadata": {},
   "outputs": [
    {
     "data": {
      "text/html": [
       "<div>\n",
       "<style scoped>\n",
       "    .dataframe tbody tr th:only-of-type {\n",
       "        vertical-align: middle;\n",
       "    }\n",
       "\n",
       "    .dataframe tbody tr th {\n",
       "        vertical-align: top;\n",
       "    }\n",
       "\n",
       "    .dataframe thead th {\n",
       "        text-align: right;\n",
       "    }\n",
       "</style>\n",
       "<table border=\"1\" class=\"dataframe\">\n",
       "  <thead>\n",
       "    <tr style=\"text-align: right;\">\n",
       "      <th></th>\n",
       "      <th>ID</th>\n",
       "      <th>DOI</th>\n",
       "      <th>complete</th>\n",
       "      <th>csv_post_title</th>\n",
       "    </tr>\n",
       "  </thead>\n",
       "  <tbody>\n",
       "    <tr>\n",
       "      <td>0</td>\n",
       "      <td>1125</td>\n",
       "      <td>10.1186/s12881-014-0095-4</td>\n",
       "      <td>&amp;amp; , Fenwick AL, Goos JAC, Rankin J, Lord ...</td>\n",
       "      <td>Apparently synonymous substitutions in FGFR2 a...</td>\n",
       "    </tr>\n",
       "    <tr>\n",
       "      <td>1</td>\n",
       "      <td>1996</td>\n",
       "      <td>10.1183/13993003.00321-2016</td>\n",
       "      <td>, Pattinson KT, Turner MR. A wider pathologic...</td>\n",
       "      <td>A wider pathological network underlying breath...</td>\n",
       "    </tr>\n",
       "  </tbody>\n",
       "</table>\n",
       "</div>"
      ],
      "text/plain": [
       "     ID                          DOI  \\\n",
       "0  1125    10.1186/s12881-014-0095-4   \n",
       "1  1996  10.1183/13993003.00321-2016   \n",
       "\n",
       "                                            complete  \\\n",
       "0   &amp; , Fenwick AL, Goos JAC, Rankin J, Lord ...   \n",
       "1   , Pattinson KT, Turner MR. A wider pathologic...   \n",
       "\n",
       "                                      csv_post_title  \n",
       "0  Apparently synonymous substitutions in FGFR2 a...  \n",
       "1  A wider pathological network underlying breath...  "
      ]
     },
     "execution_count": 4,
     "metadata": {},
     "output_type": "execute_result"
    }
   ],
   "source": [
    "df1.head(2)"
   ]
  },
  {
   "cell_type": "code",
   "execution_count": 5,
   "metadata": {},
   "outputs": [
    {
     "data": {
      "text/plain": [
       "(1442, 4)"
      ]
     },
     "execution_count": 5,
     "metadata": {},
     "output_type": "execute_result"
    }
   ],
   "source": [
    "#make dataframe from only those missing DOIs\n",
    "#df1[~df1.doi.isna()]  gives those with DOIs (1440 as reported)\n",
    "df1.loc[~df1.DOI.isna()].shape\n"
   ]
  },
  {
   "cell_type": "markdown",
   "metadata": {},
   "source": [
    "### Therefore identifying that 1440 of the 2378 publications have DOIs (934 do not)\n",
    "### _however, we don't know any of them are correct_ so it will best to acquire all top matches from CrossRef\n"
   ]
  },
  {
   "cell_type": "code",
   "execution_count": 5,
   "metadata": {
    "scrolled": true
   },
   "outputs": [
    {
     "data": {
      "text/html": [
       "<div>\n",
       "<style scoped>\n",
       "    .dataframe tbody tr th:only-of-type {\n",
       "        vertical-align: middle;\n",
       "    }\n",
       "\n",
       "    .dataframe tbody tr th {\n",
       "        vertical-align: top;\n",
       "    }\n",
       "\n",
       "    .dataframe thead th {\n",
       "        text-align: right;\n",
       "    }\n",
       "</style>\n",
       "<table border=\"1\" class=\"dataframe\">\n",
       "  <thead>\n",
       "    <tr style=\"text-align: right;\">\n",
       "      <th></th>\n",
       "      <th>ID</th>\n",
       "      <th>DOI</th>\n",
       "      <th>complete</th>\n",
       "      <th>csv_post_title</th>\n",
       "    </tr>\n",
       "  </thead>\n",
       "  <tbody>\n",
       "    <tr>\n",
       "      <th>10</th>\n",
       "      <td>168</td>\n",
       "      <td>NaN</td>\n",
       "      <td>Pagnamenta AT,  Murray JE,  Yoon G, Akha ES, ...</td>\n",
       "      <td>A novel nonsense CDK5RAP2 mutation in a Somali...</td>\n",
       "    </tr>\n",
       "    <tr>\n",
       "      <th>11</th>\n",
       "      <td>2026</td>\n",
       "      <td>10.3201/eid2204.151812</td>\n",
       "      <td>Pybus OG, Bonsall D, Gregory WF, Ip CL, Donfi...</td>\n",
       "      <td>Evaluation of Viremia Frequencies of a Novel H...</td>\n",
       "    </tr>\n",
       "    <tr>\n",
       "      <th>12</th>\n",
       "      <td>1154</td>\n",
       "      <td>10.7554/eLife.03821</td>\n",
       "      <td>Williams JP,  Hurst J,  StÃ•_hr W,  Robinson ...</td>\n",
       "      <td>HIV-1 DNA predicts disease progression and pos...</td>\n",
       "    </tr>\n",
       "    <tr>\n",
       "      <th>13</th>\n",
       "      <td>1729</td>\n",
       "      <td>10.1111/dote.12244</td>\n",
       "      <td>., Findlay JM, Tilson RC, Harikrishnan A, Sgro...</td>\n",
       "      <td>Attempted validation of the NUn score and infl...</td>\n",
       "    </tr>\n",
       "    <tr>\n",
       "      <th>14</th>\n",
       "      <td>2123</td>\n",
       "      <td>10.1016/j.dib.2016.08.046</td>\n",
       "      <td>., Rysnik O, McHugh K, van Duivenvoorde L, van...</td>\n",
       "      <td>Data showing non-conventional HLA-B27 expressi...</td>\n",
       "    </tr>\n",
       "  </tbody>\n",
       "</table>\n",
       "</div>"
      ],
      "text/plain": [
       "      ID                        DOI  \\\n",
       "10   168                        NaN   \n",
       "11  2026     10.3201/eid2204.151812   \n",
       "12  1154        10.7554/eLife.03821   \n",
       "13  1729         10.1111/dote.12244   \n",
       "14  2123  10.1016/j.dib.2016.08.046   \n",
       "\n",
       "                                             complete  \\\n",
       "10   Pagnamenta AT,  Murray JE,  Yoon G, Akha ES, ...   \n",
       "11   Pybus OG, Bonsall D, Gregory WF, Ip CL, Donfi...   \n",
       "12   Williams JP,  Hurst J,  StÃ•_hr W,  Robinson ...   \n",
       "13  ., Findlay JM, Tilson RC, Harikrishnan A, Sgro...   \n",
       "14  ., Rysnik O, McHugh K, van Duivenvoorde L, van...   \n",
       "\n",
       "                                       csv_post_title  \n",
       "10  A novel nonsense CDK5RAP2 mutation in a Somali...  \n",
       "11  Evaluation of Viremia Frequencies of a Novel H...  \n",
       "12  HIV-1 DNA predicts disease progression and pos...  \n",
       "13  Attempted validation of the NUn score and infl...  \n",
       "14  Data showing non-conventional HLA-B27 expressi...  "
      ]
     },
     "execution_count": 5,
     "metadata": {},
     "output_type": "execute_result"
    }
   ],
   "source": [
    "df1mini = df1.iloc[10:15]\n",
    "df1mini.head()"
   ]
  },
  {
   "cell_type": "code",
   "execution_count": 6,
   "metadata": {},
   "outputs": [],
   "source": [
    "cr = Crossref()"
   ]
  },
  {
   "cell_type": "code",
   "execution_count": 7,
   "metadata": {},
   "outputs": [
    {
     "data": {
      "text/plain": [
       "< Crossref \n",
       "URL: https://api.crossref.org\n",
       "KEY: None\n",
       "MAILTO: laurence.brown@ndcn.ox.ac.uk\n",
       ">"
      ]
     },
     "execution_count": 7,
     "metadata": {},
     "output_type": "execute_result"
    }
   ],
   "source": [
    "#Crossref(api_key = \"168421\")\n",
    "# set a mailto address\n",
    "Crossref(mailto = \"laurence.brown@ndcn.ox.ac.uk\")"
   ]
  },
  {
   "cell_type": "code",
   "execution_count": 8,
   "metadata": {
    "scrolled": false
   },
   "outputs": [],
   "source": [
    "#cr.filter_details()"
   ]
  },
  {
   "cell_type": "code",
   "execution_count": 9,
   "metadata": {},
   "outputs": [
    {
     "data": {
      "text/plain": [
       "\"['DOI', 'URL', 'alternative-id', 'author','indexed', 'is-referenced-by-count',\\n       'language', 'license', 'link',  'published-online', 'published-print', 'publisher',\\n       'reference', 'reference-count', 'references-count', 'relation', 'score',\\n       'short-container-title', 'source', 'title', 'type', 'update-to']\\n\""
      ]
     },
     "execution_count": 9,
     "metadata": {},
     "output_type": "execute_result"
    }
   ],
   "source": [
    "'''['DOI', 'URL', 'alternative-id', 'author','indexed', 'is-referenced-by-count',\n",
    "       'language', 'license', 'link',  'published-online', 'published-print', 'publisher',\n",
    "       'reference', 'reference-count', 'references-count', 'relation', 'score',\n",
    "       'short-container-title', 'source', 'title', 'type', 'update-to']\n",
    "'''\n",
    "#select=['title', 'link','URL', 'author','is-referenced-by-count','alternative-id', 'author','indexed',],"
   ]
  },
  {
   "cell_type": "code",
   "execution_count": 10,
   "metadata": {},
   "outputs": [
    {
     "data": {
      "text/plain": [
       "{'status': 'ok',\n",
       " 'message-type': 'work-list',\n",
       " 'message-version': '1.0.0',\n",
       " 'message': {'facets': {},\n",
       "  'total-results': 1765187,\n",
       "  'items': [{'title': ['HIV-1 DNA predicts disease progression and post-treatment virological control'],\n",
       "    'DOI': '10.7554/elife.03821'}],\n",
       "  'items-per-page': 1,\n",
       "  'query': {'start-index': 0, 'search-terms': None}}}"
      ]
     },
     "execution_count": 10,
     "metadata": {},
     "output_type": "execute_result"
    }
   ],
   "source": [
    "cr.works(query_title=df1mini.csv_post_title[12]\n",
    "             ,select=['title','DOI'],\n",
    "                      filter={'from_pub_date':'2011-01-01','until_pub_date':'2018-12-31','type':'journal-article'},\n",
    "                      limit=1)"
   ]
  },
  {
   "cell_type": "code",
   "execution_count": 11,
   "metadata": {},
   "outputs": [],
   "source": [
    "def CrossRefDoiTop1(df):\n",
    "    try:\n",
    "        search = cr.works(query_title=df.csv_post_title\n",
    "             ,select=['title','DOI'],\n",
    "                      filter={'from_pub_date':'2011-01-01','until_pub_date':'2018-12-31','type':'journal-article'},\n",
    "                      limit=1)\n",
    "        time.sleep(1)\n",
    "        return search['message']['items'][0]\n",
    "    except:\n",
    "        return ('None')\n",
    "    finally:\n",
    "        time.sleep(1)\n",
    "        pass"
   ]
  },
  {
   "cell_type": "code",
   "execution_count": 12,
   "metadata": {},
   "outputs": [],
   "source": [
    "#df1x.columns\n"
   ]
  },
  {
   "cell_type": "code",
   "execution_count": 13,
   "metadata": {},
   "outputs": [],
   "source": [
    "df1check= df1mini.assign(crossref_API_out =df1mini.apply(CrossRefDoiTop1, axis=1))"
   ]
  },
  {
   "cell_type": "code",
   "execution_count": 14,
   "metadata": {
    "scrolled": false
   },
   "outputs": [
    {
     "data": {
      "text/html": [
       "<div>\n",
       "<style scoped>\n",
       "    .dataframe tbody tr th:only-of-type {\n",
       "        vertical-align: middle;\n",
       "    }\n",
       "\n",
       "    .dataframe tbody tr th {\n",
       "        vertical-align: top;\n",
       "    }\n",
       "\n",
       "    .dataframe thead th {\n",
       "        text-align: right;\n",
       "    }\n",
       "</style>\n",
       "<table border=\"1\" class=\"dataframe\">\n",
       "  <thead>\n",
       "    <tr style=\"text-align: right;\">\n",
       "      <th></th>\n",
       "      <th>ID</th>\n",
       "      <th>DOI</th>\n",
       "      <th>complete</th>\n",
       "      <th>csv_post_title</th>\n",
       "      <th>CrossRefDoi</th>\n",
       "    </tr>\n",
       "  </thead>\n",
       "  <tbody>\n",
       "    <tr>\n",
       "      <th>10</th>\n",
       "      <td>168</td>\n",
       "      <td>NaN</td>\n",
       "      <td>Pagnamenta AT,  Murray JE,  Yoon G, Akha ES, ...</td>\n",
       "      <td>A novel nonsense CDK5RAP2 mutation in a Somali...</td>\n",
       "      <td>{'title': ['High-frequency sensorineural heari...</td>\n",
       "    </tr>\n",
       "    <tr>\n",
       "      <th>11</th>\n",
       "      <td>2026</td>\n",
       "      <td>10.3201/eid2204.151812</td>\n",
       "      <td>Pybus OG, Bonsall D, Gregory WF, Ip CL, Donfi...</td>\n",
       "      <td>Evaluation of Viremia Frequencies of a Novel H...</td>\n",
       "      <td>{'title': ['Evaluation of Viremia Frequencies ...</td>\n",
       "    </tr>\n",
       "    <tr>\n",
       "      <th>12</th>\n",
       "      <td>1154</td>\n",
       "      <td>10.7554/eLife.03821</td>\n",
       "      <td>Williams JP,  Hurst J,  StÃ•_hr W,  Robinson ...</td>\n",
       "      <td>HIV-1 DNA predicts disease progression and pos...</td>\n",
       "      <td>{'title': ['HIV-1 DNA predicts disease progres...</td>\n",
       "    </tr>\n",
       "    <tr>\n",
       "      <th>13</th>\n",
       "      <td>1729</td>\n",
       "      <td>10.1111/dote.12244</td>\n",
       "      <td>., Findlay JM, Tilson RC, Harikrishnan A, Sgro...</td>\n",
       "      <td>Attempted validation of the NUn score and infl...</td>\n",
       "      <td>{'title': ['Attempted validation of the NUn sc...</td>\n",
       "    </tr>\n",
       "    <tr>\n",
       "      <th>14</th>\n",
       "      <td>2123</td>\n",
       "      <td>10.1016/j.dib.2016.08.046</td>\n",
       "      <td>., Rysnik O, McHugh K, van Duivenvoorde L, van...</td>\n",
       "      <td>Data showing non-conventional HLA-B27 expressi...</td>\n",
       "      <td>{'title': ['Data showing non-conventional HLA-...</td>\n",
       "    </tr>\n",
       "  </tbody>\n",
       "</table>\n",
       "</div>"
      ],
      "text/plain": [
       "      ID                        DOI  \\\n",
       "10   168                        NaN   \n",
       "11  2026     10.3201/eid2204.151812   \n",
       "12  1154        10.7554/eLife.03821   \n",
       "13  1729         10.1111/dote.12244   \n",
       "14  2123  10.1016/j.dib.2016.08.046   \n",
       "\n",
       "                                             complete  \\\n",
       "10   Pagnamenta AT,  Murray JE,  Yoon G, Akha ES, ...   \n",
       "11   Pybus OG, Bonsall D, Gregory WF, Ip CL, Donfi...   \n",
       "12   Williams JP,  Hurst J,  StÃ•_hr W,  Robinson ...   \n",
       "13  ., Findlay JM, Tilson RC, Harikrishnan A, Sgro...   \n",
       "14  ., Rysnik O, McHugh K, van Duivenvoorde L, van...   \n",
       "\n",
       "                                       csv_post_title  \\\n",
       "10  A novel nonsense CDK5RAP2 mutation in a Somali...   \n",
       "11  Evaluation of Viremia Frequencies of a Novel H...   \n",
       "12  HIV-1 DNA predicts disease progression and pos...   \n",
       "13  Attempted validation of the NUn score and infl...   \n",
       "14  Data showing non-conventional HLA-B27 expressi...   \n",
       "\n",
       "                                          CrossRefDoi  \n",
       "10  {'title': ['High-frequency sensorineural heari...  \n",
       "11  {'title': ['Evaluation of Viremia Frequencies ...  \n",
       "12  {'title': ['HIV-1 DNA predicts disease progres...  \n",
       "13  {'title': ['Attempted validation of the NUn sc...  \n",
       "14  {'title': ['Data showing non-conventional HLA-...  "
      ]
     },
     "execution_count": 14,
     "metadata": {},
     "output_type": "execute_result"
    }
   ],
   "source": [
    "df1check"
   ]
  },
  {
   "cell_type": "code",
   "execution_count": 15,
   "metadata": {},
   "outputs": [],
   "source": [
    "newdata = pd.DataFrame(pd.io.json.json_normalize(df1check.crossref_API_out))  "
   ]
  },
  {
   "cell_type": "code",
   "execution_count": 16,
   "metadata": {},
   "outputs": [
    {
     "data": {
      "text/html": [
       "<div>\n",
       "<style scoped>\n",
       "    .dataframe tbody tr th:only-of-type {\n",
       "        vertical-align: middle;\n",
       "    }\n",
       "\n",
       "    .dataframe tbody tr th {\n",
       "        vertical-align: top;\n",
       "    }\n",
       "\n",
       "    .dataframe thead th {\n",
       "        text-align: right;\n",
       "    }\n",
       "</style>\n",
       "<table border=\"1\" class=\"dataframe\">\n",
       "  <thead>\n",
       "    <tr style=\"text-align: right;\">\n",
       "      <th></th>\n",
       "      <th>DOI</th>\n",
       "      <th>title</th>\n",
       "    </tr>\n",
       "  </thead>\n",
       "  <tbody>\n",
       "    <tr>\n",
       "      <th>0</th>\n",
       "      <td>10.1002/lary.25544</td>\n",
       "      <td>[High-frequency sensorineural hearing loss in ...</td>\n",
       "    </tr>\n",
       "    <tr>\n",
       "      <th>1</th>\n",
       "      <td>10.3201/eid2204.151812</td>\n",
       "      <td>[Evaluation of Viremia Frequencies of a Novel ...</td>\n",
       "    </tr>\n",
       "    <tr>\n",
       "      <th>2</th>\n",
       "      <td>10.7554/elife.03821</td>\n",
       "      <td>[HIV-1 DNA predicts disease progression and po...</td>\n",
       "    </tr>\n",
       "    <tr>\n",
       "      <th>3</th>\n",
       "      <td>10.1111/dote.12244</td>\n",
       "      <td>[Attempted validation of the NUn score and inf...</td>\n",
       "    </tr>\n",
       "    <tr>\n",
       "      <th>4</th>\n",
       "      <td>10.1016/j.dib.2016.08.046</td>\n",
       "      <td>[Data showing non-conventional HLA-B27 express...</td>\n",
       "    </tr>\n",
       "  </tbody>\n",
       "</table>\n",
       "</div>"
      ],
      "text/plain": [
       "                         DOI  \\\n",
       "0         10.1002/lary.25544   \n",
       "1     10.3201/eid2204.151812   \n",
       "2        10.7554/elife.03821   \n",
       "3         10.1111/dote.12244   \n",
       "4  10.1016/j.dib.2016.08.046   \n",
       "\n",
       "                                               title  \n",
       "0  [High-frequency sensorineural hearing loss in ...  \n",
       "1  [Evaluation of Viremia Frequencies of a Novel ...  \n",
       "2  [HIV-1 DNA predicts disease progression and po...  \n",
       "3  [Attempted validation of the NUn score and inf...  \n",
       "4  [Data showing non-conventional HLA-B27 express...  "
      ]
     },
     "execution_count": 16,
     "metadata": {},
     "output_type": "execute_result"
    }
   ],
   "source": [
    "newdata"
   ]
  },
  {
   "cell_type": "code",
   "execution_count": 17,
   "metadata": {},
   "outputs": [
    {
     "data": {
      "text/plain": [
       "ID                                                             1520\n",
       "DOI                                    10.1371/journal.ppat.1004954\n",
       "complete          Adland E, Paioni P, Thobakgale C, Laker L, Mor...\n",
       "csv_post_title    Discordant impact of HLA on viral replicative ...\n",
       "Name: 27, dtype: object"
      ]
     },
     "execution_count": 17,
     "metadata": {},
     "output_type": "execute_result"
    }
   ],
   "source": [
    "df1.iloc[27]"
   ]
  },
  {
   "cell_type": "code",
   "execution_count": 19,
   "metadata": {},
   "outputs": [
    {
     "data": {
      "text/html": [
       "<div>\n",
       "<style scoped>\n",
       "    .dataframe tbody tr th:only-of-type {\n",
       "        vertical-align: middle;\n",
       "    }\n",
       "\n",
       "    .dataframe tbody tr th {\n",
       "        vertical-align: top;\n",
       "    }\n",
       "\n",
       "    .dataframe thead th {\n",
       "        text-align: right;\n",
       "    }\n",
       "</style>\n",
       "<table border=\"1\" class=\"dataframe\">\n",
       "  <thead>\n",
       "    <tr style=\"text-align: right;\">\n",
       "      <th></th>\n",
       "      <th>ID</th>\n",
       "      <th>DOI</th>\n",
       "      <th>complete</th>\n",
       "      <th>csv_post_title</th>\n",
       "    </tr>\n",
       "  </thead>\n",
       "  <tbody>\n",
       "    <tr>\n",
       "      <th>1601</th>\n",
       "      <td>839</td>\n",
       "      <td>10.4137/BMI.S16553</td>\n",
       "      <td>Patel S, Murphy D, Haralambieva E, Abdulla ZA,...</td>\n",
       "      <td>Increased expression of phosphorylated FADD in...</td>\n",
       "    </tr>\n",
       "    <tr>\n",
       "      <th>1602</th>\n",
       "      <td>2411</td>\n",
       "      <td>10.1016/j.omtn.2016.12.006</td>\n",
       "      <td>Patricio MI, Barnard AR, Orlans HO, McClements...</td>\n",
       "      <td>Inclusion of the Woodchuck Hepatitis Virus Pos...</td>\n",
       "    </tr>\n",
       "  </tbody>\n",
       "</table>\n",
       "</div>"
      ],
      "text/plain": [
       "        ID                         DOI  \\\n",
       "1601   839          10.4137/BMI.S16553   \n",
       "1602  2411  10.1016/j.omtn.2016.12.006   \n",
       "\n",
       "                                               complete  \\\n",
       "1601  Patel S, Murphy D, Haralambieva E, Abdulla ZA,...   \n",
       "1602  Patricio MI, Barnard AR, Orlans HO, McClements...   \n",
       "\n",
       "                                         csv_post_title  \n",
       "1601  Increased expression of phosphorylated FADD in...  \n",
       "1602  Inclusion of the Woodchuck Hepatitis Virus Pos...  "
      ]
     },
     "execution_count": 19,
     "metadata": {},
     "output_type": "execute_result"
    }
   ],
   "source": [
    "df1x1= df1[0:801]\n",
    "df1x2= df1[801:1601]\n",
    "df1x3= df1[1601:2379]#.reset_index()\n",
    "df1x3.head(2)"
   ]
  },
  {
   "cell_type": "code",
   "execution_count": 20,
   "metadata": {},
   "outputs": [],
   "source": [
    "df1x1out = df1x1.assign(crossref_API_out =df1x1.apply(CrossRefDoiTop1, axis=1))\n",
    "df1x1out.to_csv('bodDois1x1out.csv')"
   ]
  },
  {
   "cell_type": "code",
   "execution_count": 21,
   "metadata": {},
   "outputs": [
    {
     "data": {
      "text/html": [
       "<div>\n",
       "<style scoped>\n",
       "    .dataframe tbody tr th:only-of-type {\n",
       "        vertical-align: middle;\n",
       "    }\n",
       "\n",
       "    .dataframe tbody tr th {\n",
       "        vertical-align: top;\n",
       "    }\n",
       "\n",
       "    .dataframe thead th {\n",
       "        text-align: right;\n",
       "    }\n",
       "</style>\n",
       "<table border=\"1\" class=\"dataframe\">\n",
       "  <thead>\n",
       "    <tr style=\"text-align: right;\">\n",
       "      <th></th>\n",
       "      <th>ID</th>\n",
       "      <th>DOI</th>\n",
       "      <th>complete</th>\n",
       "      <th>csv_post_title</th>\n",
       "      <th>crossref_API_out</th>\n",
       "    </tr>\n",
       "  </thead>\n",
       "  <tbody>\n",
       "    <tr>\n",
       "      <th>0</th>\n",
       "      <td>1125</td>\n",
       "      <td>10.1186/s12881-014-0095-4</td>\n",
       "      <td>&amp;amp; , Fenwick AL, Goos JAC, Rankin J, Lord ...</td>\n",
       "      <td>Apparently synonymous substitutions in FGFR2 a...</td>\n",
       "      <td>{'title': ['Apparently synonymous substitution...</td>\n",
       "    </tr>\n",
       "    <tr>\n",
       "      <th>1</th>\n",
       "      <td>1996</td>\n",
       "      <td>10.1183/13993003.00321-2016</td>\n",
       "      <td>, Pattinson KT, Turner MR. A wider pathologic...</td>\n",
       "      <td>A wider pathological network underlying breath...</td>\n",
       "      <td>{'title': ['A wider pathological network under...</td>\n",
       "    </tr>\n",
       "    <tr>\n",
       "      <th>2</th>\n",
       "      <td>506</td>\n",
       "      <td>NaN</td>\n",
       "      <td>Adib-Samii P,  Rost N,  Traylor M,  Devan W, ...</td>\n",
       "      <td>17q25 Locus is associated with white matter hy...</td>\n",
       "      <td>{'title': ['17q25 Locus Is Associated With Whi...</td>\n",
       "    </tr>\n",
       "    <tr>\n",
       "      <th>3</th>\n",
       "      <td>1430</td>\n",
       "      <td>10.1093/annonc/mdu449</td>\n",
       "      <td>and I. Tomlinson*, Findlay JM, Middleton MR, ...</td>\n",
       "      <td>A systematic review and meta-analysis of somat...</td>\n",
       "      <td>{'title': ['A systematic review and meta-analy...</td>\n",
       "    </tr>\n",
       "    <tr>\n",
       "      <th>4</th>\n",
       "      <td>848</td>\n",
       "      <td>NaN</td>\n",
       "      <td>Dichgans M,  Malik R,  KÃ•_nig IR,  Rosand J,...</td>\n",
       "      <td>Shared genetic susceptibility to ischemic stro...</td>\n",
       "      <td>{'title': ['Shared Genetic Susceptibility to I...</td>\n",
       "    </tr>\n",
       "  </tbody>\n",
       "</table>\n",
       "</div>"
      ],
      "text/plain": [
       "     ID                          DOI  \\\n",
       "0  1125    10.1186/s12881-014-0095-4   \n",
       "1  1996  10.1183/13993003.00321-2016   \n",
       "2   506                          NaN   \n",
       "3  1430        10.1093/annonc/mdu449   \n",
       "4   848                          NaN   \n",
       "\n",
       "                                            complete  \\\n",
       "0   &amp; , Fenwick AL, Goos JAC, Rankin J, Lord ...   \n",
       "1   , Pattinson KT, Turner MR. A wider pathologic...   \n",
       "2   Adib-Samii P,  Rost N,  Traylor M,  Devan W, ...   \n",
       "3   and I. Tomlinson*, Findlay JM, Middleton MR, ...   \n",
       "4   Dichgans M,  Malik R,  KÃ•_nig IR,  Rosand J,...   \n",
       "\n",
       "                                      csv_post_title  \\\n",
       "0  Apparently synonymous substitutions in FGFR2 a...   \n",
       "1  A wider pathological network underlying breath...   \n",
       "2  17q25 Locus is associated with white matter hy...   \n",
       "3  A systematic review and meta-analysis of somat...   \n",
       "4  Shared genetic susceptibility to ischemic stro...   \n",
       "\n",
       "                                    crossref_API_out  \n",
       "0  {'title': ['Apparently synonymous substitution...  \n",
       "1  {'title': ['A wider pathological network under...  \n",
       "2  {'title': ['17q25 Locus Is Associated With Whi...  \n",
       "3  {'title': ['A systematic review and meta-analy...  \n",
       "4  {'title': ['Shared Genetic Susceptibility to I...  "
      ]
     },
     "execution_count": 21,
     "metadata": {},
     "output_type": "execute_result"
    }
   ],
   "source": [
    "df1x1out.head()"
   ]
  },
  {
   "cell_type": "code",
   "execution_count": 22,
   "metadata": {},
   "outputs": [],
   "source": [
    "df1x2out = df1x2.assign(crossref_API_out =df1x2.apply(CrossRefDoiTop1, axis=1))\n",
    "df1x2out.to_csv('bodDois1x2out.csv')"
   ]
  },
  {
   "cell_type": "code",
   "execution_count": 23,
   "metadata": {},
   "outputs": [
    {
     "data": {
      "text/html": [
       "<div>\n",
       "<style scoped>\n",
       "    .dataframe tbody tr th:only-of-type {\n",
       "        vertical-align: middle;\n",
       "    }\n",
       "\n",
       "    .dataframe tbody tr th {\n",
       "        vertical-align: top;\n",
       "    }\n",
       "\n",
       "    .dataframe thead th {\n",
       "        text-align: right;\n",
       "    }\n",
       "</style>\n",
       "<table border=\"1\" class=\"dataframe\">\n",
       "  <thead>\n",
       "    <tr style=\"text-align: right;\">\n",
       "      <th></th>\n",
       "      <th>ID</th>\n",
       "      <th>DOI</th>\n",
       "      <th>complete</th>\n",
       "      <th>csv_post_title</th>\n",
       "      <th>crossref_API_out</th>\n",
       "    </tr>\n",
       "  </thead>\n",
       "  <tbody>\n",
       "    <tr>\n",
       "      <th>801</th>\n",
       "      <td>969</td>\n",
       "      <td>10.2337/dc13-2539</td>\n",
       "      <td>Guest JF, Panca M, Sladkevicius E, Taheri S, S...</td>\n",
       "      <td>Clinical outcomes and cost-effectiveness of co...</td>\n",
       "      <td>{'title': ['Obstructive sleep apnea in childre...</td>\n",
       "    </tr>\n",
       "    <tr>\n",
       "      <th>802</th>\n",
       "      <td>1767</td>\n",
       "      <td>10.1182/blood-2015-05-647578</td>\n",
       "      <td>GuiÃ¨ze R, Robbe P, Clifford R, de Guibert S, ...</td>\n",
       "      <td>Presence of multiple recurrent mutations confe...</td>\n",
       "      <td>{'title': ['Presence of multiple recurrent mut...</td>\n",
       "    </tr>\n",
       "    <tr>\n",
       "      <th>803</th>\n",
       "      <td>1935</td>\n",
       "      <td>10.1038/nature14347</td>\n",
       "      <td>Gundem G, Van Loo P, Kremeyer B, Alexandrov LB...</td>\n",
       "      <td>The evolutionary history of lethal metastatic ...</td>\n",
       "      <td>{'title': ['Treatment of metastatic prostate c...</td>\n",
       "    </tr>\n",
       "    <tr>\n",
       "      <th>804</th>\n",
       "      <td>2060</td>\n",
       "      <td>10.1093/jac/dkw177</td>\n",
       "      <td>Guo Q, Tomich AD, McElheny CL, Cooper VS, Stoe...</td>\n",
       "      <td>Glutathione-S-transferase FosA6 of Klebsiella ...</td>\n",
       "      <td>{'title': ['Glutathione-S-transferase FosA6 of...</td>\n",
       "    </tr>\n",
       "    <tr>\n",
       "      <th>805</th>\n",
       "      <td>1690</td>\n",
       "      <td>10.1158/1055-9965.EPI-15-0363</td>\n",
       "      <td>Guo X, Long J, Zeng C, Michailidou K, Ghoussai...</td>\n",
       "      <td>Fine-Scale Mapping of the 4q24 Locus Identifie...</td>\n",
       "      <td>{'title': ['Fine-Scale Mapping of the 4q24 Loc...</td>\n",
       "    </tr>\n",
       "  </tbody>\n",
       "</table>\n",
       "</div>"
      ],
      "text/plain": [
       "       ID                            DOI  \\\n",
       "801   969              10.2337/dc13-2539   \n",
       "802  1767   10.1182/blood-2015-05-647578   \n",
       "803  1935            10.1038/nature14347   \n",
       "804  2060             10.1093/jac/dkw177   \n",
       "805  1690  10.1158/1055-9965.EPI-15-0363   \n",
       "\n",
       "                                              complete  \\\n",
       "801  Guest JF, Panca M, Sladkevicius E, Taheri S, S...   \n",
       "802  GuiÃ¨ze R, Robbe P, Clifford R, de Guibert S, ...   \n",
       "803  Gundem G, Van Loo P, Kremeyer B, Alexandrov LB...   \n",
       "804  Guo Q, Tomich AD, McElheny CL, Cooper VS, Stoe...   \n",
       "805  Guo X, Long J, Zeng C, Michailidou K, Ghoussai...   \n",
       "\n",
       "                                        csv_post_title  \\\n",
       "801  Clinical outcomes and cost-effectiveness of co...   \n",
       "802  Presence of multiple recurrent mutations confe...   \n",
       "803  The evolutionary history of lethal metastatic ...   \n",
       "804  Glutathione-S-transferase FosA6 of Klebsiella ...   \n",
       "805  Fine-Scale Mapping of the 4q24 Locus Identifie...   \n",
       "\n",
       "                                      crossref_API_out  \n",
       "801  {'title': ['Obstructive sleep apnea in childre...  \n",
       "802  {'title': ['Presence of multiple recurrent mut...  \n",
       "803  {'title': ['Treatment of metastatic prostate c...  \n",
       "804  {'title': ['Glutathione-S-transferase FosA6 of...  \n",
       "805  {'title': ['Fine-Scale Mapping of the 4q24 Loc...  "
      ]
     },
     "execution_count": 23,
     "metadata": {},
     "output_type": "execute_result"
    }
   ],
   "source": [
    "df1x2out.head()"
   ]
  },
  {
   "cell_type": "code",
   "execution_count": 24,
   "metadata": {},
   "outputs": [],
   "source": [
    "df1x3out = df1x3.assign(crossref_API_out =df1x3.apply(CrossRefDoiTop1, axis=1))\n",
    "df1x3out.to_csv('bodDois1x3out.csv')"
   ]
  },
  {
   "cell_type": "code",
   "execution_count": 25,
   "metadata": {
    "scrolled": false
   },
   "outputs": [],
   "source": [
    "# Bring these smaller dataframes together \n",
    "df1x_out = pd.concat([df1x1out, df1x2out, df1x3out])"
   ]
  },
  {
   "cell_type": "code",
   "execution_count": 124,
   "metadata": {},
   "outputs": [
    {
     "data": {
      "text/html": [
       "<div>\n",
       "<style scoped>\n",
       "    .dataframe tbody tr th:only-of-type {\n",
       "        vertical-align: middle;\n",
       "    }\n",
       "\n",
       "    .dataframe tbody tr th {\n",
       "        vertical-align: top;\n",
       "    }\n",
       "\n",
       "    .dataframe thead th {\n",
       "        text-align: right;\n",
       "    }\n",
       "</style>\n",
       "<table border=\"1\" class=\"dataframe\">\n",
       "  <thead>\n",
       "    <tr style=\"text-align: right;\">\n",
       "      <th></th>\n",
       "      <th>ID</th>\n",
       "      <th>DOI</th>\n",
       "      <th>complete</th>\n",
       "      <th>csv_post_title</th>\n",
       "      <th>crossref_API_out</th>\n",
       "    </tr>\n",
       "  </thead>\n",
       "  <tbody>\n",
       "    <tr>\n",
       "      <th>0</th>\n",
       "      <td>1125</td>\n",
       "      <td>10.1186/s12881-014-0095-4</td>\n",
       "      <td>&amp;amp; , Fenwick AL, Goos JAC, Rankin J, Lord ...</td>\n",
       "      <td>Apparently synonymous substitutions in FGFR2 a...</td>\n",
       "      <td>{'title': ['Apparently synonymous substitution...</td>\n",
       "    </tr>\n",
       "    <tr>\n",
       "      <th>1</th>\n",
       "      <td>1996</td>\n",
       "      <td>10.1183/13993003.00321-2016</td>\n",
       "      <td>, Pattinson KT, Turner MR. A wider pathologic...</td>\n",
       "      <td>A wider pathological network underlying breath...</td>\n",
       "      <td>{'title': ['A wider pathological network under...</td>\n",
       "    </tr>\n",
       "    <tr>\n",
       "      <th>2</th>\n",
       "      <td>506</td>\n",
       "      <td>NaN</td>\n",
       "      <td>Adib-Samii P,  Rost N,  Traylor M,  Devan W, ...</td>\n",
       "      <td>17q25 Locus is associated with white matter hy...</td>\n",
       "      <td>{'title': ['17q25 Locus Is Associated With Whi...</td>\n",
       "    </tr>\n",
       "    <tr>\n",
       "      <th>3</th>\n",
       "      <td>1430</td>\n",
       "      <td>10.1093/annonc/mdu449</td>\n",
       "      <td>and I. Tomlinson*, Findlay JM, Middleton MR, ...</td>\n",
       "      <td>A systematic review and meta-analysis of somat...</td>\n",
       "      <td>{'title': ['A systematic review and meta-analy...</td>\n",
       "    </tr>\n",
       "    <tr>\n",
       "      <th>4</th>\n",
       "      <td>848</td>\n",
       "      <td>NaN</td>\n",
       "      <td>Dichgans M,  Malik R,  KÃ•_nig IR,  Rosand J,...</td>\n",
       "      <td>Shared genetic susceptibility to ischemic stro...</td>\n",
       "      <td>{'title': ['Shared Genetic Susceptibility to I...</td>\n",
       "    </tr>\n",
       "  </tbody>\n",
       "</table>\n",
       "</div>"
      ],
      "text/plain": [
       "     ID                          DOI  \\\n",
       "0  1125    10.1186/s12881-014-0095-4   \n",
       "1  1996  10.1183/13993003.00321-2016   \n",
       "2   506                          NaN   \n",
       "3  1430        10.1093/annonc/mdu449   \n",
       "4   848                          NaN   \n",
       "\n",
       "                                            complete  \\\n",
       "0   &amp; , Fenwick AL, Goos JAC, Rankin J, Lord ...   \n",
       "1   , Pattinson KT, Turner MR. A wider pathologic...   \n",
       "2   Adib-Samii P,  Rost N,  Traylor M,  Devan W, ...   \n",
       "3   and I. Tomlinson*, Findlay JM, Middleton MR, ...   \n",
       "4   Dichgans M,  Malik R,  KÃ•_nig IR,  Rosand J,...   \n",
       "\n",
       "                                      csv_post_title  \\\n",
       "0  Apparently synonymous substitutions in FGFR2 a...   \n",
       "1  A wider pathological network underlying breath...   \n",
       "2  17q25 Locus is associated with white matter hy...   \n",
       "3  A systematic review and meta-analysis of somat...   \n",
       "4  Shared genetic susceptibility to ischemic stro...   \n",
       "\n",
       "                                    crossref_API_out  \n",
       "0  {'title': ['Apparently synonymous substitution...  \n",
       "1  {'title': ['A wider pathological network under...  \n",
       "2  {'title': ['17q25 Locus Is Associated With Whi...  \n",
       "3  {'title': ['A systematic review and meta-analy...  \n",
       "4  {'title': ['Shared Genetic Susceptibility to I...  "
      ]
     },
     "execution_count": 124,
     "metadata": {},
     "output_type": "execute_result"
    }
   ],
   "source": [
    "#Save the work so we don't need to get the data again\n",
    "\n",
    "df1x_out.to_csv('./A1out_CrossRef_BRC_Bodlist_BODandCrossRefDois_05Aug19.csv')\n",
    "df1x_out.to_json('./A1out_CrossRef_BRC_Bodlist_BODandCrossRefDois_05Aug19.json', orient='records', lines=True)\n",
    "df1x_out.crossref_API_out.to_json('./A1out_CrossRef_API_data_alone_05Aug19.json', orient='index')\n",
    "df1x_out.head()\n"
   ]
  },
  {
   "cell_type": "code",
   "execution_count": 77,
   "metadata": {},
   "outputs": [
    {
     "data": {
      "text/html": [
       "<div>\n",
       "<style scoped>\n",
       "    .dataframe tbody tr th:only-of-type {\n",
       "        vertical-align: middle;\n",
       "    }\n",
       "\n",
       "    .dataframe tbody tr th {\n",
       "        vertical-align: top;\n",
       "    }\n",
       "\n",
       "    .dataframe thead th {\n",
       "        text-align: right;\n",
       "    }\n",
       "</style>\n",
       "<table border=\"1\" class=\"dataframe\">\n",
       "  <thead>\n",
       "    <tr style=\"text-align: right;\">\n",
       "      <th></th>\n",
       "      <th>ID</th>\n",
       "      <th>DOI</th>\n",
       "      <th>complete</th>\n",
       "      <th>csv_post_title</th>\n",
       "      <th>crossref_API_out</th>\n",
       "    </tr>\n",
       "  </thead>\n",
       "  <tbody>\n",
       "  </tbody>\n",
       "</table>\n",
       "</div>"
      ],
      "text/plain": [
       "Empty DataFrame\n",
       "Columns: [ID, DOI, complete, csv_post_title, crossref_API_out]\n",
       "Index: []"
      ]
     },
     "execution_count": 77,
     "metadata": {},
     "output_type": "execute_result"
    }
   ],
   "source": [
    "df1x_out[df1x_out.crossref_API_out.isna()]"
   ]
  },
  {
   "cell_type": "code",
   "execution_count": null,
   "metadata": {},
   "outputs": [],
   "source": []
  },
  {
   "cell_type": "code",
   "execution_count": null,
   "metadata": {},
   "outputs": [],
   "source": []
  }
 ],
 "metadata": {
  "kernelspec": {
   "display_name": "Python 3",
   "language": "python",
   "name": "python3"
  },
  "language_info": {
   "codemirror_mode": {
    "name": "ipython",
    "version": 3
   },
   "file_extension": ".py",
   "mimetype": "text/x-python",
   "name": "python",
   "nbconvert_exporter": "python",
   "pygments_lexer": "ipython3",
   "version": "3.6.9"
  }
 },
 "nbformat": 4,
 "nbformat_minor": 2
}
